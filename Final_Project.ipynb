{
 "cells": [
  {
   "cell_type": "markdown",
   "metadata": {},
   "source": [
    "# Final Project\n",
    "\n",
    "- Name : Jungsoo Lee\n",
    "- PID: A140525222"
   ]
  },
  {
   "cell_type": "markdown",
   "metadata": {},
   "source": [
    "## Import Packages"
   ]
  },
  {
   "cell_type": "code",
   "execution_count": 1,
   "metadata": {},
   "outputs": [],
   "source": [
    "import time\n",
    "from collections import Counter, defaultdict\n",
    "import warnings\n",
    "warnings.filterwarnings(\"ignore\")\n",
    "\n",
    "from tqdm import notebook\n",
    "import pandas as pd\n",
    "import numpy as np\n",
    "import matplotlib.pyplot as plt\n",
    "\n",
    "from sklearn.linear_model import LogisticRegression\n",
    "from sklearn.ensemble import RandomForestClassifier\n",
    "from sklearn.neighbors import KNeighborsClassifier\n",
    "from sklearn.preprocessing import MinMaxScaler\n",
    "from sklearn.metrics import accuracy_score, f1_score, recall_score, precision_score, roc_auc_score\n",
    "from sklearn.model_selection import GridSearchCV"
   ]
  },
  {
   "cell_type": "markdown",
   "metadata": {},
   "source": [
    "## Load datasets"
   ]
  },
  {
   "cell_type": "code",
   "execution_count": 2,
   "metadata": {},
   "outputs": [],
   "source": [
    "datasets = {}"
   ]
  },
  {
   "cell_type": "markdown",
   "metadata": {},
   "source": [
    "### Adult"
   ]
  },
  {
   "cell_type": "code",
   "execution_count": 3,
   "metadata": {
    "code_folding": [],
    "scrolled": false
   },
   "outputs": [
    {
     "data": {
      "text/html": [
       "<div>\n",
       "<style scoped>\n",
       "    .dataframe tbody tr th:only-of-type {\n",
       "        vertical-align: middle;\n",
       "    }\n",
       "\n",
       "    .dataframe tbody tr th {\n",
       "        vertical-align: top;\n",
       "    }\n",
       "\n",
       "    .dataframe thead th {\n",
       "        text-align: right;\n",
       "    }\n",
       "</style>\n",
       "<table border=\"1\" class=\"dataframe\">\n",
       "  <thead>\n",
       "    <tr style=\"text-align: right;\">\n",
       "      <th></th>\n",
       "      <th>age</th>\n",
       "      <th>workclass</th>\n",
       "      <th>fnlwgt</th>\n",
       "      <th>education</th>\n",
       "      <th>education-num</th>\n",
       "      <th>marital-status</th>\n",
       "      <th>occupation</th>\n",
       "      <th>relationship</th>\n",
       "      <th>race</th>\n",
       "      <th>sex</th>\n",
       "      <th>capital-gain</th>\n",
       "      <th>capital-loss</th>\n",
       "      <th>hours-per-week</th>\n",
       "      <th>native-country</th>\n",
       "      <th>above-50k</th>\n",
       "    </tr>\n",
       "  </thead>\n",
       "  <tbody>\n",
       "    <tr>\n",
       "      <th>0</th>\n",
       "      <td>39</td>\n",
       "      <td>State-gov</td>\n",
       "      <td>77516</td>\n",
       "      <td>Bachelors</td>\n",
       "      <td>13</td>\n",
       "      <td>Never-married</td>\n",
       "      <td>Adm-clerical</td>\n",
       "      <td>Not-in-family</td>\n",
       "      <td>White</td>\n",
       "      <td>Male</td>\n",
       "      <td>2174</td>\n",
       "      <td>0</td>\n",
       "      <td>40</td>\n",
       "      <td>United-States</td>\n",
       "      <td>&lt;=50K</td>\n",
       "    </tr>\n",
       "    <tr>\n",
       "      <th>1</th>\n",
       "      <td>50</td>\n",
       "      <td>Self-emp-not-inc</td>\n",
       "      <td>83311</td>\n",
       "      <td>Bachelors</td>\n",
       "      <td>13</td>\n",
       "      <td>Married-civ-spouse</td>\n",
       "      <td>Exec-managerial</td>\n",
       "      <td>Husband</td>\n",
       "      <td>White</td>\n",
       "      <td>Male</td>\n",
       "      <td>0</td>\n",
       "      <td>0</td>\n",
       "      <td>13</td>\n",
       "      <td>United-States</td>\n",
       "      <td>&lt;=50K</td>\n",
       "    </tr>\n",
       "    <tr>\n",
       "      <th>2</th>\n",
       "      <td>38</td>\n",
       "      <td>Private</td>\n",
       "      <td>215646</td>\n",
       "      <td>HS-grad</td>\n",
       "      <td>9</td>\n",
       "      <td>Divorced</td>\n",
       "      <td>Handlers-cleaners</td>\n",
       "      <td>Not-in-family</td>\n",
       "      <td>White</td>\n",
       "      <td>Male</td>\n",
       "      <td>0</td>\n",
       "      <td>0</td>\n",
       "      <td>40</td>\n",
       "      <td>United-States</td>\n",
       "      <td>&lt;=50K</td>\n",
       "    </tr>\n",
       "    <tr>\n",
       "      <th>3</th>\n",
       "      <td>53</td>\n",
       "      <td>Private</td>\n",
       "      <td>234721</td>\n",
       "      <td>11th</td>\n",
       "      <td>7</td>\n",
       "      <td>Married-civ-spouse</td>\n",
       "      <td>Handlers-cleaners</td>\n",
       "      <td>Husband</td>\n",
       "      <td>Black</td>\n",
       "      <td>Male</td>\n",
       "      <td>0</td>\n",
       "      <td>0</td>\n",
       "      <td>40</td>\n",
       "      <td>United-States</td>\n",
       "      <td>&lt;=50K</td>\n",
       "    </tr>\n",
       "    <tr>\n",
       "      <th>4</th>\n",
       "      <td>28</td>\n",
       "      <td>Private</td>\n",
       "      <td>338409</td>\n",
       "      <td>Bachelors</td>\n",
       "      <td>13</td>\n",
       "      <td>Married-civ-spouse</td>\n",
       "      <td>Prof-specialty</td>\n",
       "      <td>Wife</td>\n",
       "      <td>Black</td>\n",
       "      <td>Female</td>\n",
       "      <td>0</td>\n",
       "      <td>0</td>\n",
       "      <td>40</td>\n",
       "      <td>Cuba</td>\n",
       "      <td>&lt;=50K</td>\n",
       "    </tr>\n",
       "  </tbody>\n",
       "</table>\n",
       "</div>"
      ],
      "text/plain": [
       "   age          workclass  fnlwgt   education  education-num  \\\n",
       "0   39          State-gov   77516   Bachelors             13   \n",
       "1   50   Self-emp-not-inc   83311   Bachelors             13   \n",
       "2   38            Private  215646     HS-grad              9   \n",
       "3   53            Private  234721        11th              7   \n",
       "4   28            Private  338409   Bachelors             13   \n",
       "\n",
       "        marital-status          occupation    relationship    race      sex  \\\n",
       "0        Never-married        Adm-clerical   Not-in-family   White     Male   \n",
       "1   Married-civ-spouse     Exec-managerial         Husband   White     Male   \n",
       "2             Divorced   Handlers-cleaners   Not-in-family   White     Male   \n",
       "3   Married-civ-spouse   Handlers-cleaners         Husband   Black     Male   \n",
       "4   Married-civ-spouse      Prof-specialty            Wife   Black   Female   \n",
       "\n",
       "   capital-gain  capital-loss  hours-per-week  native-country above-50k  \n",
       "0          2174             0              40   United-States     <=50K  \n",
       "1             0             0              13   United-States     <=50K  \n",
       "2             0             0              40   United-States     <=50K  \n",
       "3             0             0              40   United-States     <=50K  \n",
       "4             0             0              40            Cuba     <=50K  "
      ]
     },
     "execution_count": 3,
     "metadata": {},
     "output_type": "execute_result"
    }
   ],
   "source": [
    "headers = ['age', 'workclass', 'fnlwgt', 'education', 'education-num',\n",
    "           'marital-status', 'occupation', 'relationship', 'race', 'sex',\n",
    "           'capital-gain', 'capital-loss', 'hours-per-week', 'native-country', 'above-50k']\n",
    "\n",
    "df = pd.read_csv('http://archive.ics.uci.edu/ml/machine-learning-databases/adult/adult.data',\n",
    "                 names=headers, index_col=False, na_values=' ?')\n",
    "df.head()"
   ]
  },
  {
   "cell_type": "markdown",
   "metadata": {},
   "source": [
    "#### Preprocessing"
   ]
  },
  {
   "cell_type": "code",
   "execution_count": 4,
   "metadata": {},
   "outputs": [],
   "source": [
    "df.dropna(inplace=True) # Missing value 가 있기 때문에 dropna를 통해 버린다."
   ]
  },
  {
   "cell_type": "code",
   "execution_count": 5,
   "metadata": {},
   "outputs": [],
   "source": [
    "X = pd.get_dummies(df.iloc[:, :-1]).values\n",
    "y = df.iloc[:, -1].map(lambda x: x != ' <=50K').astype(int).values"
   ]
  },
  {
   "cell_type": "code",
   "execution_count": 6,
   "metadata": {
    "scrolled": false
   },
   "outputs": [
    {
     "data": {
      "text/plain": [
       "((30162, 104), (30162,))"
      ]
     },
     "execution_count": 6,
     "metadata": {},
     "output_type": "execute_result"
    }
   ],
   "source": [
    "X.shape, y.shape"
   ]
  },
  {
   "cell_type": "code",
   "execution_count": 7,
   "metadata": {
    "scrolled": true
   },
   "outputs": [
    {
     "data": {
      "text/plain": [
       "Counter({0: 22654, 1: 7508})"
      ]
     },
     "execution_count": 7,
     "metadata": {},
     "output_type": "execute_result"
    }
   ],
   "source": [
    "Counter(y)"
   ]
  },
  {
   "cell_type": "code",
   "execution_count": 8,
   "metadata": {},
   "outputs": [],
   "source": [
    "datasets['adult'] = (X, y)"
   ]
  },
  {
   "cell_type": "markdown",
   "metadata": {},
   "source": [
    "### Occupancy Detection"
   ]
  },
  {
   "cell_type": "code",
   "execution_count": 9,
   "metadata": {},
   "outputs": [
    {
     "data": {
      "text/html": [
       "<div>\n",
       "<style scoped>\n",
       "    .dataframe tbody tr th:only-of-type {\n",
       "        vertical-align: middle;\n",
       "    }\n",
       "\n",
       "    .dataframe tbody tr th {\n",
       "        vertical-align: top;\n",
       "    }\n",
       "\n",
       "    .dataframe thead th {\n",
       "        text-align: right;\n",
       "    }\n",
       "</style>\n",
       "<table border=\"1\" class=\"dataframe\">\n",
       "  <thead>\n",
       "    <tr style=\"text-align: right;\">\n",
       "      <th></th>\n",
       "      <th>index</th>\n",
       "      <th>date</th>\n",
       "      <th>Temperature</th>\n",
       "      <th>Humidity</th>\n",
       "      <th>Light</th>\n",
       "      <th>CO2</th>\n",
       "      <th>HumidityRatio</th>\n",
       "      <th>Occupancy</th>\n",
       "    </tr>\n",
       "  </thead>\n",
       "  <tbody>\n",
       "    <tr>\n",
       "      <th>0</th>\n",
       "      <td>1</td>\n",
       "      <td>2/4/2015 17:51</td>\n",
       "      <td>23.18</td>\n",
       "      <td>27.2720</td>\n",
       "      <td>426.0</td>\n",
       "      <td>721.25</td>\n",
       "      <td>0.004793</td>\n",
       "      <td>1</td>\n",
       "    </tr>\n",
       "    <tr>\n",
       "      <th>1</th>\n",
       "      <td>2</td>\n",
       "      <td>2/4/2015 17:51</td>\n",
       "      <td>23.15</td>\n",
       "      <td>27.2675</td>\n",
       "      <td>429.5</td>\n",
       "      <td>714.00</td>\n",
       "      <td>0.004783</td>\n",
       "      <td>1</td>\n",
       "    </tr>\n",
       "    <tr>\n",
       "      <th>2</th>\n",
       "      <td>3</td>\n",
       "      <td>2/4/2015 17:53</td>\n",
       "      <td>23.15</td>\n",
       "      <td>27.2450</td>\n",
       "      <td>426.0</td>\n",
       "      <td>713.50</td>\n",
       "      <td>0.004779</td>\n",
       "      <td>1</td>\n",
       "    </tr>\n",
       "    <tr>\n",
       "      <th>3</th>\n",
       "      <td>4</td>\n",
       "      <td>2/4/2015 17:54</td>\n",
       "      <td>23.15</td>\n",
       "      <td>27.2000</td>\n",
       "      <td>426.0</td>\n",
       "      <td>708.25</td>\n",
       "      <td>0.004772</td>\n",
       "      <td>1</td>\n",
       "    </tr>\n",
       "    <tr>\n",
       "      <th>4</th>\n",
       "      <td>5</td>\n",
       "      <td>2/4/2015 17:55</td>\n",
       "      <td>23.10</td>\n",
       "      <td>27.2000</td>\n",
       "      <td>426.0</td>\n",
       "      <td>704.50</td>\n",
       "      <td>0.004757</td>\n",
       "      <td>1</td>\n",
       "    </tr>\n",
       "  </tbody>\n",
       "</table>\n",
       "</div>"
      ],
      "text/plain": [
       "   index            date  Temperature  Humidity  Light     CO2  HumidityRatio  \\\n",
       "0      1  2/4/2015 17:51        23.18   27.2720  426.0  721.25       0.004793   \n",
       "1      2  2/4/2015 17:51        23.15   27.2675  429.5  714.00       0.004783   \n",
       "2      3  2/4/2015 17:53        23.15   27.2450  426.0  713.50       0.004779   \n",
       "3      4  2/4/2015 17:54        23.15   27.2000  426.0  708.25       0.004772   \n",
       "4      5  2/4/2015 17:55        23.10   27.2000  426.0  704.50       0.004757   \n",
       "\n",
       "   Occupancy  \n",
       "0          1  \n",
       "1          1  \n",
       "2          1  \n",
       "3          1  \n",
       "4          1  "
      ]
     },
     "execution_count": 9,
     "metadata": {},
     "output_type": "execute_result"
    }
   ],
   "source": [
    "df = pd.read_csv('occupancy_detection.csv')\n",
    "df.head()"
   ]
  },
  {
   "cell_type": "code",
   "execution_count": 10,
   "metadata": {
    "scrolled": true
   },
   "outputs": [
    {
     "name": "stdout",
     "output_type": "stream",
     "text": [
      "<class 'pandas.core.frame.DataFrame'>\n",
      "RangeIndex: 8143 entries, 0 to 8142\n",
      "Data columns (total 8 columns):\n",
      " #   Column         Non-Null Count  Dtype  \n",
      "---  ------         --------------  -----  \n",
      " 0   index          8143 non-null   int64  \n",
      " 1   date           8143 non-null   object \n",
      " 2   Temperature    8143 non-null   float64\n",
      " 3   Humidity       8143 non-null   float64\n",
      " 4   Light          8143 non-null   float64\n",
      " 5   CO2            8143 non-null   float64\n",
      " 6   HumidityRatio  8143 non-null   float64\n",
      " 7   Occupancy      8143 non-null   int64  \n",
      "dtypes: float64(5), int64(2), object(1)\n",
      "memory usage: 509.1+ KB\n"
     ]
    }
   ],
   "source": [
    "df.info()"
   ]
  },
  {
   "cell_type": "markdown",
   "metadata": {},
   "source": [
    "#### Preprocessing"
   ]
  },
  {
   "cell_type": "code",
   "execution_count": 11,
   "metadata": {},
   "outputs": [],
   "source": [
    "df.drop('date', axis=1, inplace=True) # Drop Unuse columns"
   ]
  },
  {
   "cell_type": "code",
   "execution_count": 12,
   "metadata": {},
   "outputs": [],
   "source": [
    "X = df.iloc[:, :-1].values\n",
    "y = df.iloc[:, -1].values"
   ]
  },
  {
   "cell_type": "code",
   "execution_count": 13,
   "metadata": {
    "scrolled": true
   },
   "outputs": [
    {
     "data": {
      "text/plain": [
       "((8143, 6), (8143,))"
      ]
     },
     "execution_count": 13,
     "metadata": {},
     "output_type": "execute_result"
    }
   ],
   "source": [
    "X.shape, y.shape"
   ]
  },
  {
   "cell_type": "code",
   "execution_count": 14,
   "metadata": {
    "scrolled": true
   },
   "outputs": [
    {
     "data": {
      "text/plain": [
       "Counter({1: 1729, 0: 6414})"
      ]
     },
     "execution_count": 14,
     "metadata": {},
     "output_type": "execute_result"
    }
   ],
   "source": [
    "Counter(y)"
   ]
  },
  {
   "cell_type": "code",
   "execution_count": 15,
   "metadata": {},
   "outputs": [],
   "source": [
    "datasets['occupancy'] = (X, y)"
   ]
  },
  {
   "cell_type": "markdown",
   "metadata": {},
   "source": [
    "### default_of_credit_card_clients"
   ]
  },
  {
   "cell_type": "code",
   "execution_count": 16,
   "metadata": {
    "scrolled": true
   },
   "outputs": [
    {
     "data": {
      "text/html": [
       "<div>\n",
       "<style scoped>\n",
       "    .dataframe tbody tr th:only-of-type {\n",
       "        vertical-align: middle;\n",
       "    }\n",
       "\n",
       "    .dataframe tbody tr th {\n",
       "        vertical-align: top;\n",
       "    }\n",
       "\n",
       "    .dataframe thead th {\n",
       "        text-align: right;\n",
       "    }\n",
       "</style>\n",
       "<table border=\"1\" class=\"dataframe\">\n",
       "  <thead>\n",
       "    <tr style=\"text-align: right;\">\n",
       "      <th></th>\n",
       "      <th>ID</th>\n",
       "      <th>LIMIT_BAL</th>\n",
       "      <th>SEX</th>\n",
       "      <th>EDUCATION</th>\n",
       "      <th>MARRIAGE</th>\n",
       "      <th>AGE</th>\n",
       "      <th>PAY_0</th>\n",
       "      <th>PAY_2</th>\n",
       "      <th>PAY_3</th>\n",
       "      <th>PAY_4</th>\n",
       "      <th>...</th>\n",
       "      <th>BILL_AMT4</th>\n",
       "      <th>BILL_AMT5</th>\n",
       "      <th>BILL_AMT6</th>\n",
       "      <th>PAY_AMT1</th>\n",
       "      <th>PAY_AMT2</th>\n",
       "      <th>PAY_AMT3</th>\n",
       "      <th>PAY_AMT4</th>\n",
       "      <th>PAY_AMT5</th>\n",
       "      <th>PAY_AMT6</th>\n",
       "      <th>default payment next month</th>\n",
       "    </tr>\n",
       "  </thead>\n",
       "  <tbody>\n",
       "    <tr>\n",
       "      <th>0</th>\n",
       "      <td>1</td>\n",
       "      <td>20000</td>\n",
       "      <td>2</td>\n",
       "      <td>2</td>\n",
       "      <td>1</td>\n",
       "      <td>24</td>\n",
       "      <td>2</td>\n",
       "      <td>2</td>\n",
       "      <td>-1</td>\n",
       "      <td>-1</td>\n",
       "      <td>...</td>\n",
       "      <td>0</td>\n",
       "      <td>0</td>\n",
       "      <td>0</td>\n",
       "      <td>0</td>\n",
       "      <td>689</td>\n",
       "      <td>0</td>\n",
       "      <td>0</td>\n",
       "      <td>0</td>\n",
       "      <td>0</td>\n",
       "      <td>1</td>\n",
       "    </tr>\n",
       "    <tr>\n",
       "      <th>1</th>\n",
       "      <td>2</td>\n",
       "      <td>120000</td>\n",
       "      <td>2</td>\n",
       "      <td>2</td>\n",
       "      <td>2</td>\n",
       "      <td>26</td>\n",
       "      <td>-1</td>\n",
       "      <td>2</td>\n",
       "      <td>0</td>\n",
       "      <td>0</td>\n",
       "      <td>...</td>\n",
       "      <td>3272</td>\n",
       "      <td>3455</td>\n",
       "      <td>3261</td>\n",
       "      <td>0</td>\n",
       "      <td>1000</td>\n",
       "      <td>1000</td>\n",
       "      <td>1000</td>\n",
       "      <td>0</td>\n",
       "      <td>2000</td>\n",
       "      <td>1</td>\n",
       "    </tr>\n",
       "    <tr>\n",
       "      <th>2</th>\n",
       "      <td>3</td>\n",
       "      <td>90000</td>\n",
       "      <td>2</td>\n",
       "      <td>2</td>\n",
       "      <td>2</td>\n",
       "      <td>34</td>\n",
       "      <td>0</td>\n",
       "      <td>0</td>\n",
       "      <td>0</td>\n",
       "      <td>0</td>\n",
       "      <td>...</td>\n",
       "      <td>14331</td>\n",
       "      <td>14948</td>\n",
       "      <td>15549</td>\n",
       "      <td>1518</td>\n",
       "      <td>1500</td>\n",
       "      <td>1000</td>\n",
       "      <td>1000</td>\n",
       "      <td>1000</td>\n",
       "      <td>5000</td>\n",
       "      <td>0</td>\n",
       "    </tr>\n",
       "    <tr>\n",
       "      <th>3</th>\n",
       "      <td>4</td>\n",
       "      <td>50000</td>\n",
       "      <td>2</td>\n",
       "      <td>2</td>\n",
       "      <td>1</td>\n",
       "      <td>37</td>\n",
       "      <td>0</td>\n",
       "      <td>0</td>\n",
       "      <td>0</td>\n",
       "      <td>0</td>\n",
       "      <td>...</td>\n",
       "      <td>28314</td>\n",
       "      <td>28959</td>\n",
       "      <td>29547</td>\n",
       "      <td>2000</td>\n",
       "      <td>2019</td>\n",
       "      <td>1200</td>\n",
       "      <td>1100</td>\n",
       "      <td>1069</td>\n",
       "      <td>1000</td>\n",
       "      <td>0</td>\n",
       "    </tr>\n",
       "    <tr>\n",
       "      <th>4</th>\n",
       "      <td>5</td>\n",
       "      <td>50000</td>\n",
       "      <td>1</td>\n",
       "      <td>2</td>\n",
       "      <td>1</td>\n",
       "      <td>57</td>\n",
       "      <td>-1</td>\n",
       "      <td>0</td>\n",
       "      <td>-1</td>\n",
       "      <td>0</td>\n",
       "      <td>...</td>\n",
       "      <td>20940</td>\n",
       "      <td>19146</td>\n",
       "      <td>19131</td>\n",
       "      <td>2000</td>\n",
       "      <td>36681</td>\n",
       "      <td>10000</td>\n",
       "      <td>9000</td>\n",
       "      <td>689</td>\n",
       "      <td>679</td>\n",
       "      <td>0</td>\n",
       "    </tr>\n",
       "  </tbody>\n",
       "</table>\n",
       "<p>5 rows × 25 columns</p>\n",
       "</div>"
      ],
      "text/plain": [
       "   ID  LIMIT_BAL  SEX  EDUCATION  MARRIAGE  AGE  PAY_0  PAY_2  PAY_3  PAY_4  \\\n",
       "0   1      20000    2          2         1   24      2      2     -1     -1   \n",
       "1   2     120000    2          2         2   26     -1      2      0      0   \n",
       "2   3      90000    2          2         2   34      0      0      0      0   \n",
       "3   4      50000    2          2         1   37      0      0      0      0   \n",
       "4   5      50000    1          2         1   57     -1      0     -1      0   \n",
       "\n",
       "   ...  BILL_AMT4  BILL_AMT5  BILL_AMT6  PAY_AMT1  PAY_AMT2  PAY_AMT3  \\\n",
       "0  ...          0          0          0         0       689         0   \n",
       "1  ...       3272       3455       3261         0      1000      1000   \n",
       "2  ...      14331      14948      15549      1518      1500      1000   \n",
       "3  ...      28314      28959      29547      2000      2019      1200   \n",
       "4  ...      20940      19146      19131      2000     36681     10000   \n",
       "\n",
       "   PAY_AMT4  PAY_AMT5  PAY_AMT6  default payment next month  \n",
       "0         0         0         0                           1  \n",
       "1      1000         0      2000                           1  \n",
       "2      1000      1000      5000                           0  \n",
       "3      1100      1069      1000                           0  \n",
       "4      9000       689       679                           0  \n",
       "\n",
       "[5 rows x 25 columns]"
      ]
     },
     "execution_count": 16,
     "metadata": {},
     "output_type": "execute_result"
    }
   ],
   "source": [
    "df = pd.read_excel('https://archive.ics.uci.edu/ml/machine-learning-databases/00350/default%20of%20credit%20card%20clients.xls', header=1)\n",
    "df.head()"
   ]
  },
  {
   "cell_type": "code",
   "execution_count": 17,
   "metadata": {
    "scrolled": true
   },
   "outputs": [
    {
     "name": "stdout",
     "output_type": "stream",
     "text": [
      "<class 'pandas.core.frame.DataFrame'>\n",
      "RangeIndex: 30000 entries, 0 to 29999\n",
      "Data columns (total 25 columns):\n",
      " #   Column                      Non-Null Count  Dtype\n",
      "---  ------                      --------------  -----\n",
      " 0   ID                          30000 non-null  int64\n",
      " 1   LIMIT_BAL                   30000 non-null  int64\n",
      " 2   SEX                         30000 non-null  int64\n",
      " 3   EDUCATION                   30000 non-null  int64\n",
      " 4   MARRIAGE                    30000 non-null  int64\n",
      " 5   AGE                         30000 non-null  int64\n",
      " 6   PAY_0                       30000 non-null  int64\n",
      " 7   PAY_2                       30000 non-null  int64\n",
      " 8   PAY_3                       30000 non-null  int64\n",
      " 9   PAY_4                       30000 non-null  int64\n",
      " 10  PAY_5                       30000 non-null  int64\n",
      " 11  PAY_6                       30000 non-null  int64\n",
      " 12  BILL_AMT1                   30000 non-null  int64\n",
      " 13  BILL_AMT2                   30000 non-null  int64\n",
      " 14  BILL_AMT3                   30000 non-null  int64\n",
      " 15  BILL_AMT4                   30000 non-null  int64\n",
      " 16  BILL_AMT5                   30000 non-null  int64\n",
      " 17  BILL_AMT6                   30000 non-null  int64\n",
      " 18  PAY_AMT1                    30000 non-null  int64\n",
      " 19  PAY_AMT2                    30000 non-null  int64\n",
      " 20  PAY_AMT3                    30000 non-null  int64\n",
      " 21  PAY_AMT4                    30000 non-null  int64\n",
      " 22  PAY_AMT5                    30000 non-null  int64\n",
      " 23  PAY_AMT6                    30000 non-null  int64\n",
      " 24  default payment next month  30000 non-null  int64\n",
      "dtypes: int64(25)\n",
      "memory usage: 5.7 MB\n"
     ]
    }
   ],
   "source": [
    "df.info()"
   ]
  },
  {
   "cell_type": "markdown",
   "metadata": {},
   "source": [
    "#### Preprocessing"
   ]
  },
  {
   "cell_type": "code",
   "execution_count": 18,
   "metadata": {},
   "outputs": [],
   "source": [
    "df.drop('ID', axis=1, inplace=True) # Drop Unuse columns"
   ]
  },
  {
   "cell_type": "code",
   "execution_count": 19,
   "metadata": {},
   "outputs": [],
   "source": [
    "X = df.iloc[:, :-1].values\n",
    "y = df.iloc[:, -1].values"
   ]
  },
  {
   "cell_type": "code",
   "execution_count": 20,
   "metadata": {
    "scrolled": true
   },
   "outputs": [
    {
     "data": {
      "text/plain": [
       "((30000, 23), (30000,))"
      ]
     },
     "execution_count": 20,
     "metadata": {},
     "output_type": "execute_result"
    }
   ],
   "source": [
    "X.shape, y.shape"
   ]
  },
  {
   "cell_type": "code",
   "execution_count": 21,
   "metadata": {
    "scrolled": true
   },
   "outputs": [
    {
     "data": {
      "text/plain": [
       "Counter({1: 6636, 0: 23364})"
      ]
     },
     "execution_count": 21,
     "metadata": {},
     "output_type": "execute_result"
    }
   ],
   "source": [
    "Counter(y)"
   ]
  },
  {
   "cell_type": "code",
   "execution_count": 22,
   "metadata": {},
   "outputs": [],
   "source": [
    "datasets['card'] = (X, y)"
   ]
  },
  {
   "cell_type": "markdown",
   "metadata": {},
   "source": [
    "### MAGIC Gamma Telescope"
   ]
  },
  {
   "cell_type": "code",
   "execution_count": 23,
   "metadata": {},
   "outputs": [
    {
     "data": {
      "text/html": [
       "<div>\n",
       "<style scoped>\n",
       "    .dataframe tbody tr th:only-of-type {\n",
       "        vertical-align: middle;\n",
       "    }\n",
       "\n",
       "    .dataframe tbody tr th {\n",
       "        vertical-align: top;\n",
       "    }\n",
       "\n",
       "    .dataframe thead th {\n",
       "        text-align: right;\n",
       "    }\n",
       "</style>\n",
       "<table border=\"1\" class=\"dataframe\">\n",
       "  <thead>\n",
       "    <tr style=\"text-align: right;\">\n",
       "      <th></th>\n",
       "      <th>fLength</th>\n",
       "      <th>fWidth</th>\n",
       "      <th>fSize</th>\n",
       "      <th>fConc</th>\n",
       "      <th>fConc1</th>\n",
       "      <th>fAsym</th>\n",
       "      <th>fM3Long</th>\n",
       "      <th>fM3Trans</th>\n",
       "      <th>fAlpha</th>\n",
       "      <th>fDist</th>\n",
       "      <th>class</th>\n",
       "    </tr>\n",
       "  </thead>\n",
       "  <tbody>\n",
       "    <tr>\n",
       "      <th>0</th>\n",
       "      <td>28.7967</td>\n",
       "      <td>16.0021</td>\n",
       "      <td>2.6449</td>\n",
       "      <td>0.3918</td>\n",
       "      <td>0.1982</td>\n",
       "      <td>27.7004</td>\n",
       "      <td>22.0110</td>\n",
       "      <td>-8.2027</td>\n",
       "      <td>40.0920</td>\n",
       "      <td>81.8828</td>\n",
       "      <td>g</td>\n",
       "    </tr>\n",
       "    <tr>\n",
       "      <th>1</th>\n",
       "      <td>31.6036</td>\n",
       "      <td>11.7235</td>\n",
       "      <td>2.5185</td>\n",
       "      <td>0.5303</td>\n",
       "      <td>0.3773</td>\n",
       "      <td>26.2722</td>\n",
       "      <td>23.8238</td>\n",
       "      <td>-9.9574</td>\n",
       "      <td>6.3609</td>\n",
       "      <td>205.2610</td>\n",
       "      <td>g</td>\n",
       "    </tr>\n",
       "    <tr>\n",
       "      <th>2</th>\n",
       "      <td>162.0520</td>\n",
       "      <td>136.0310</td>\n",
       "      <td>4.0612</td>\n",
       "      <td>0.0374</td>\n",
       "      <td>0.0187</td>\n",
       "      <td>116.7410</td>\n",
       "      <td>-64.8580</td>\n",
       "      <td>-45.2160</td>\n",
       "      <td>76.9600</td>\n",
       "      <td>256.7880</td>\n",
       "      <td>g</td>\n",
       "    </tr>\n",
       "    <tr>\n",
       "      <th>3</th>\n",
       "      <td>23.8172</td>\n",
       "      <td>9.5728</td>\n",
       "      <td>2.3385</td>\n",
       "      <td>0.6147</td>\n",
       "      <td>0.3922</td>\n",
       "      <td>27.2107</td>\n",
       "      <td>-6.4633</td>\n",
       "      <td>-7.1513</td>\n",
       "      <td>10.4490</td>\n",
       "      <td>116.7370</td>\n",
       "      <td>g</td>\n",
       "    </tr>\n",
       "    <tr>\n",
       "      <th>4</th>\n",
       "      <td>75.1362</td>\n",
       "      <td>30.9205</td>\n",
       "      <td>3.1611</td>\n",
       "      <td>0.3168</td>\n",
       "      <td>0.1832</td>\n",
       "      <td>-5.5277</td>\n",
       "      <td>28.5525</td>\n",
       "      <td>21.8393</td>\n",
       "      <td>4.6480</td>\n",
       "      <td>356.4620</td>\n",
       "      <td>g</td>\n",
       "    </tr>\n",
       "  </tbody>\n",
       "</table>\n",
       "</div>"
      ],
      "text/plain": [
       "    fLength    fWidth   fSize   fConc  fConc1     fAsym  fM3Long  fM3Trans  \\\n",
       "0   28.7967   16.0021  2.6449  0.3918  0.1982   27.7004  22.0110   -8.2027   \n",
       "1   31.6036   11.7235  2.5185  0.5303  0.3773   26.2722  23.8238   -9.9574   \n",
       "2  162.0520  136.0310  4.0612  0.0374  0.0187  116.7410 -64.8580  -45.2160   \n",
       "3   23.8172    9.5728  2.3385  0.6147  0.3922   27.2107  -6.4633   -7.1513   \n",
       "4   75.1362   30.9205  3.1611  0.3168  0.1832   -5.5277  28.5525   21.8393   \n",
       "\n",
       "    fAlpha     fDist class  \n",
       "0  40.0920   81.8828     g  \n",
       "1   6.3609  205.2610     g  \n",
       "2  76.9600  256.7880     g  \n",
       "3  10.4490  116.7370     g  \n",
       "4   4.6480  356.4620     g  "
      ]
     },
     "execution_count": 23,
     "metadata": {},
     "output_type": "execute_result"
    }
   ],
   "source": [
    "names = ['fLength', 'fWidth', 'fSize','fConc', 'fConc1', 'fAsym', 'fM3Long', 'fM3Trans', 'fAlpha', 'fDist', 'class']\n",
    "df = pd.read_csv('https://archive.ics.uci.edu/ml/machine-learning-databases/magic/magic04.data', names=names)\n",
    "df.head()"
   ]
  },
  {
   "cell_type": "code",
   "execution_count": 24,
   "metadata": {
    "scrolled": true
   },
   "outputs": [
    {
     "name": "stdout",
     "output_type": "stream",
     "text": [
      "<class 'pandas.core.frame.DataFrame'>\n",
      "RangeIndex: 19020 entries, 0 to 19019\n",
      "Data columns (total 11 columns):\n",
      " #   Column    Non-Null Count  Dtype  \n",
      "---  ------    --------------  -----  \n",
      " 0   fLength   19020 non-null  float64\n",
      " 1   fWidth    19020 non-null  float64\n",
      " 2   fSize     19020 non-null  float64\n",
      " 3   fConc     19020 non-null  float64\n",
      " 4   fConc1    19020 non-null  float64\n",
      " 5   fAsym     19020 non-null  float64\n",
      " 6   fM3Long   19020 non-null  float64\n",
      " 7   fM3Trans  19020 non-null  float64\n",
      " 8   fAlpha    19020 non-null  float64\n",
      " 9   fDist     19020 non-null  float64\n",
      " 10  class     19020 non-null  object \n",
      "dtypes: float64(10), object(1)\n",
      "memory usage: 1.6+ MB\n"
     ]
    }
   ],
   "source": [
    "df.info()"
   ]
  },
  {
   "cell_type": "markdown",
   "metadata": {},
   "source": [
    "#### Preprocessing"
   ]
  },
  {
   "cell_type": "code",
   "execution_count": 25,
   "metadata": {},
   "outputs": [],
   "source": [
    "X = df.iloc[:, :-1].values\n",
    "y = df.iloc[:, -1].map(lambda x:0 if x=='h' else 1).values"
   ]
  },
  {
   "cell_type": "code",
   "execution_count": 26,
   "metadata": {
    "scrolled": true
   },
   "outputs": [
    {
     "data": {
      "text/plain": [
       "((19020, 10), (19020,))"
      ]
     },
     "execution_count": 26,
     "metadata": {},
     "output_type": "execute_result"
    }
   ],
   "source": [
    "X.shape, y.shape"
   ]
  },
  {
   "cell_type": "code",
   "execution_count": 27,
   "metadata": {
    "scrolled": false
   },
   "outputs": [
    {
     "data": {
      "text/plain": [
       "Counter({1: 12332, 0: 6688})"
      ]
     },
     "execution_count": 27,
     "metadata": {},
     "output_type": "execute_result"
    }
   ],
   "source": [
    "Counter(y)"
   ]
  },
  {
   "cell_type": "code",
   "execution_count": 28,
   "metadata": {},
   "outputs": [],
   "source": [
    "datasets['magic'] = (X, y)"
   ]
  },
  {
   "cell_type": "markdown",
   "metadata": {},
   "source": [
    "## Modeling"
   ]
  },
  {
   "cell_type": "code",
   "execution_count": 29,
   "metadata": {},
   "outputs": [],
   "source": [
    "from sklearn.naive_bayes import GaussianNB\n",
    "\n",
    "models = [LogisticRegression(), RandomForestClassifier(), GaussianNB()]\n",
    "param_grids = [{'C':[1e-8, 1e-7, 1e-6, 1e-5, 1e-4]},\n",
    "               {'max_depth':[5, 6, 7, None]},\n",
    "               {'var_smoothing': np.logspace(0, -9, num=5)}]\n",
    "\n",
    "mms = MinMaxScaler()"
   ]
  },
  {
   "cell_type": "code",
   "execution_count": 30,
   "metadata": {
    "scrolled": true
   },
   "outputs": [
    {
     "name": "stdout",
     "output_type": "stream",
     "text": [
      "adult (30162, 104)\n",
      "occupancy (8143, 6)\n",
      "card (30000, 23)\n",
      "magic (19020, 10)\n"
     ]
    }
   ],
   "source": [
    "for dn, (X, y) in datasets.items():\n",
    "    print(dn, X.shape)"
   ]
  },
  {
   "cell_type": "code",
   "execution_count": 31,
   "metadata": {},
   "outputs": [
    {
     "data": {
      "application/vnd.jupyter.widget-view+json": {
       "model_id": "89b934f2d49649a3a412951214355042",
       "version_major": 2,
       "version_minor": 0
      },
      "text/plain": [
       "Datasets:   0%|          | 0/4 [00:00<?, ?it/s]"
      ]
     },
     "metadata": {},
     "output_type": "display_data"
    },
    {
     "data": {
      "application/vnd.jupyter.widget-view+json": {
       "model_id": "d173f6968d6c4625823b2318ff8038ca",
       "version_major": 2,
       "version_minor": 0
      },
      "text/plain": [
       "Model:   0%|          | 0/3 [00:00<?, ?it/s]"
      ]
     },
     "metadata": {},
     "output_type": "display_data"
    },
    {
     "data": {
      "application/vnd.jupyter.widget-view+json": {
       "model_id": "",
       "version_major": 2,
       "version_minor": 0
      },
      "text/plain": [
       "Train size:   0%|          | 0/5 [00:00<?, ?it/s]"
      ]
     },
     "metadata": {},
     "output_type": "display_data"
    },
    {
     "data": {
      "application/vnd.jupyter.widget-view+json": {
       "model_id": "",
       "version_major": 2,
       "version_minor": 0
      },
      "text/plain": [
       "Trial:   0%|          | 0/5 [00:00<?, ?it/s]"
      ]
     },
     "metadata": {},
     "output_type": "display_data"
    },
    {
     "data": {
      "application/vnd.jupyter.widget-view+json": {
       "model_id": "",
       "version_major": 2,
       "version_minor": 0
      },
      "text/plain": [
       "Trial:   0%|          | 0/5 [00:00<?, ?it/s]"
      ]
     },
     "metadata": {},
     "output_type": "display_data"
    },
    {
     "data": {
      "application/vnd.jupyter.widget-view+json": {
       "model_id": "",
       "version_major": 2,
       "version_minor": 0
      },
      "text/plain": [
       "Trial:   0%|          | 0/5 [00:00<?, ?it/s]"
      ]
     },
     "metadata": {},
     "output_type": "display_data"
    },
    {
     "data": {
      "application/vnd.jupyter.widget-view+json": {
       "model_id": "",
       "version_major": 2,
       "version_minor": 0
      },
      "text/plain": [
       "Trial:   0%|          | 0/5 [00:00<?, ?it/s]"
      ]
     },
     "metadata": {},
     "output_type": "display_data"
    },
    {
     "data": {
      "application/vnd.jupyter.widget-view+json": {
       "model_id": "",
       "version_major": 2,
       "version_minor": 0
      },
      "text/plain": [
       "Trial:   0%|          | 0/5 [00:00<?, ?it/s]"
      ]
     },
     "metadata": {},
     "output_type": "display_data"
    },
    {
     "data": {
      "application/vnd.jupyter.widget-view+json": {
       "model_id": "",
       "version_major": 2,
       "version_minor": 0
      },
      "text/plain": [
       "Train size:   0%|          | 0/5 [00:00<?, ?it/s]"
      ]
     },
     "metadata": {},
     "output_type": "display_data"
    },
    {
     "data": {
      "application/vnd.jupyter.widget-view+json": {
       "model_id": "",
       "version_major": 2,
       "version_minor": 0
      },
      "text/plain": [
       "Trial:   0%|          | 0/5 [00:00<?, ?it/s]"
      ]
     },
     "metadata": {},
     "output_type": "display_data"
    },
    {
     "data": {
      "application/vnd.jupyter.widget-view+json": {
       "model_id": "",
       "version_major": 2,
       "version_minor": 0
      },
      "text/plain": [
       "Trial:   0%|          | 0/5 [00:00<?, ?it/s]"
      ]
     },
     "metadata": {},
     "output_type": "display_data"
    },
    {
     "data": {
      "application/vnd.jupyter.widget-view+json": {
       "model_id": "",
       "version_major": 2,
       "version_minor": 0
      },
      "text/plain": [
       "Trial:   0%|          | 0/5 [00:00<?, ?it/s]"
      ]
     },
     "metadata": {},
     "output_type": "display_data"
    },
    {
     "data": {
      "application/vnd.jupyter.widget-view+json": {
       "model_id": "",
       "version_major": 2,
       "version_minor": 0
      },
      "text/plain": [
       "Trial:   0%|          | 0/5 [00:00<?, ?it/s]"
      ]
     },
     "metadata": {},
     "output_type": "display_data"
    },
    {
     "data": {
      "application/vnd.jupyter.widget-view+json": {
       "model_id": "",
       "version_major": 2,
       "version_minor": 0
      },
      "text/plain": [
       "Trial:   0%|          | 0/5 [00:00<?, ?it/s]"
      ]
     },
     "metadata": {},
     "output_type": "display_data"
    },
    {
     "data": {
      "application/vnd.jupyter.widget-view+json": {
       "model_id": "",
       "version_major": 2,
       "version_minor": 0
      },
      "text/plain": [
       "Train size:   0%|          | 0/5 [00:00<?, ?it/s]"
      ]
     },
     "metadata": {},
     "output_type": "display_data"
    },
    {
     "data": {
      "application/vnd.jupyter.widget-view+json": {
       "model_id": "",
       "version_major": 2,
       "version_minor": 0
      },
      "text/plain": [
       "Trial:   0%|          | 0/5 [00:00<?, ?it/s]"
      ]
     },
     "metadata": {},
     "output_type": "display_data"
    },
    {
     "data": {
      "application/vnd.jupyter.widget-view+json": {
       "model_id": "",
       "version_major": 2,
       "version_minor": 0
      },
      "text/plain": [
       "Trial:   0%|          | 0/5 [00:00<?, ?it/s]"
      ]
     },
     "metadata": {},
     "output_type": "display_data"
    },
    {
     "data": {
      "application/vnd.jupyter.widget-view+json": {
       "model_id": "",
       "version_major": 2,
       "version_minor": 0
      },
      "text/plain": [
       "Trial:   0%|          | 0/5 [00:00<?, ?it/s]"
      ]
     },
     "metadata": {},
     "output_type": "display_data"
    },
    {
     "data": {
      "application/vnd.jupyter.widget-view+json": {
       "model_id": "",
       "version_major": 2,
       "version_minor": 0
      },
      "text/plain": [
       "Trial:   0%|          | 0/5 [00:00<?, ?it/s]"
      ]
     },
     "metadata": {},
     "output_type": "display_data"
    },
    {
     "data": {
      "application/vnd.jupyter.widget-view+json": {
       "model_id": "",
       "version_major": 2,
       "version_minor": 0
      },
      "text/plain": [
       "Trial:   0%|          | 0/5 [00:00<?, ?it/s]"
      ]
     },
     "metadata": {},
     "output_type": "display_data"
    },
    {
     "data": {
      "application/vnd.jupyter.widget-view+json": {
       "model_id": "76cdae6ddaf74c98969c525a8922aaba",
       "version_major": 2,
       "version_minor": 0
      },
      "text/plain": [
       "Model:   0%|          | 0/3 [00:00<?, ?it/s]"
      ]
     },
     "metadata": {},
     "output_type": "display_data"
    },
    {
     "data": {
      "application/vnd.jupyter.widget-view+json": {
       "model_id": "",
       "version_major": 2,
       "version_minor": 0
      },
      "text/plain": [
       "Train size:   0%|          | 0/5 [00:00<?, ?it/s]"
      ]
     },
     "metadata": {},
     "output_type": "display_data"
    },
    {
     "data": {
      "application/vnd.jupyter.widget-view+json": {
       "model_id": "",
       "version_major": 2,
       "version_minor": 0
      },
      "text/plain": [
       "Trial:   0%|          | 0/5 [00:00<?, ?it/s]"
      ]
     },
     "metadata": {},
     "output_type": "display_data"
    },
    {
     "data": {
      "application/vnd.jupyter.widget-view+json": {
       "model_id": "",
       "version_major": 2,
       "version_minor": 0
      },
      "text/plain": [
       "Trial:   0%|          | 0/5 [00:00<?, ?it/s]"
      ]
     },
     "metadata": {},
     "output_type": "display_data"
    },
    {
     "data": {
      "application/vnd.jupyter.widget-view+json": {
       "model_id": "",
       "version_major": 2,
       "version_minor": 0
      },
      "text/plain": [
       "Trial:   0%|          | 0/5 [00:00<?, ?it/s]"
      ]
     },
     "metadata": {},
     "output_type": "display_data"
    },
    {
     "data": {
      "application/vnd.jupyter.widget-view+json": {
       "model_id": "",
       "version_major": 2,
       "version_minor": 0
      },
      "text/plain": [
       "Trial:   0%|          | 0/5 [00:00<?, ?it/s]"
      ]
     },
     "metadata": {},
     "output_type": "display_data"
    },
    {
     "data": {
      "application/vnd.jupyter.widget-view+json": {
       "model_id": "",
       "version_major": 2,
       "version_minor": 0
      },
      "text/plain": [
       "Train size:   0%|          | 0/5 [00:00<?, ?it/s]"
      ]
     },
     "metadata": {},
     "output_type": "display_data"
    },
    {
     "data": {
      "application/vnd.jupyter.widget-view+json": {
       "model_id": "",
       "version_major": 2,
       "version_minor": 0
      },
      "text/plain": [
       "Trial:   0%|          | 0/5 [00:00<?, ?it/s]"
      ]
     },
     "metadata": {},
     "output_type": "display_data"
    },
    {
     "data": {
      "application/vnd.jupyter.widget-view+json": {
       "model_id": "",
       "version_major": 2,
       "version_minor": 0
      },
      "text/plain": [
       "Trial:   0%|          | 0/5 [00:00<?, ?it/s]"
      ]
     },
     "metadata": {},
     "output_type": "display_data"
    },
    {
     "data": {
      "application/vnd.jupyter.widget-view+json": {
       "model_id": "",
       "version_major": 2,
       "version_minor": 0
      },
      "text/plain": [
       "Trial:   0%|          | 0/5 [00:00<?, ?it/s]"
      ]
     },
     "metadata": {},
     "output_type": "display_data"
    },
    {
     "data": {
      "application/vnd.jupyter.widget-view+json": {
       "model_id": "",
       "version_major": 2,
       "version_minor": 0
      },
      "text/plain": [
       "Trial:   0%|          | 0/5 [00:00<?, ?it/s]"
      ]
     },
     "metadata": {},
     "output_type": "display_data"
    },
    {
     "data": {
      "application/vnd.jupyter.widget-view+json": {
       "model_id": "",
       "version_major": 2,
       "version_minor": 0
      },
      "text/plain": [
       "Train size:   0%|          | 0/5 [00:00<?, ?it/s]"
      ]
     },
     "metadata": {},
     "output_type": "display_data"
    },
    {
     "data": {
      "application/vnd.jupyter.widget-view+json": {
       "model_id": "",
       "version_major": 2,
       "version_minor": 0
      },
      "text/plain": [
       "Trial:   0%|          | 0/5 [00:00<?, ?it/s]"
      ]
     },
     "metadata": {},
     "output_type": "display_data"
    },
    {
     "data": {
      "application/vnd.jupyter.widget-view+json": {
       "model_id": "",
       "version_major": 2,
       "version_minor": 0
      },
      "text/plain": [
       "Trial:   0%|          | 0/5 [00:00<?, ?it/s]"
      ]
     },
     "metadata": {},
     "output_type": "display_data"
    },
    {
     "data": {
      "application/vnd.jupyter.widget-view+json": {
       "model_id": "",
       "version_major": 2,
       "version_minor": 0
      },
      "text/plain": [
       "Trial:   0%|          | 0/5 [00:00<?, ?it/s]"
      ]
     },
     "metadata": {},
     "output_type": "display_data"
    },
    {
     "data": {
      "application/vnd.jupyter.widget-view+json": {
       "model_id": "",
       "version_major": 2,
       "version_minor": 0
      },
      "text/plain": [
       "Trial:   0%|          | 0/5 [00:00<?, ?it/s]"
      ]
     },
     "metadata": {},
     "output_type": "display_data"
    },
    {
     "data": {
      "application/vnd.jupyter.widget-view+json": {
       "model_id": "a654f7b39203476cb10722cfe2b5c68a",
       "version_major": 2,
       "version_minor": 0
      },
      "text/plain": [
       "Model:   0%|          | 0/3 [00:00<?, ?it/s]"
      ]
     },
     "metadata": {},
     "output_type": "display_data"
    },
    {
     "data": {
      "application/vnd.jupyter.widget-view+json": {
       "model_id": "",
       "version_major": 2,
       "version_minor": 0
      },
      "text/plain": [
       "Train size:   0%|          | 0/5 [00:00<?, ?it/s]"
      ]
     },
     "metadata": {},
     "output_type": "display_data"
    },
    {
     "data": {
      "application/vnd.jupyter.widget-view+json": {
       "model_id": "",
       "version_major": 2,
       "version_minor": 0
      },
      "text/plain": [
       "Trial:   0%|          | 0/5 [00:00<?, ?it/s]"
      ]
     },
     "metadata": {},
     "output_type": "display_data"
    },
    {
     "data": {
      "application/vnd.jupyter.widget-view+json": {
       "model_id": "",
       "version_major": 2,
       "version_minor": 0
      },
      "text/plain": [
       "Trial:   0%|          | 0/5 [00:00<?, ?it/s]"
      ]
     },
     "metadata": {},
     "output_type": "display_data"
    },
    {
     "data": {
      "application/vnd.jupyter.widget-view+json": {
       "model_id": "",
       "version_major": 2,
       "version_minor": 0
      },
      "text/plain": [
       "Trial:   0%|          | 0/5 [00:00<?, ?it/s]"
      ]
     },
     "metadata": {},
     "output_type": "display_data"
    },
    {
     "data": {
      "application/vnd.jupyter.widget-view+json": {
       "model_id": "",
       "version_major": 2,
       "version_minor": 0
      },
      "text/plain": [
       "Trial:   0%|          | 0/5 [00:00<?, ?it/s]"
      ]
     },
     "metadata": {},
     "output_type": "display_data"
    },
    {
     "data": {
      "application/vnd.jupyter.widget-view+json": {
       "model_id": "",
       "version_major": 2,
       "version_minor": 0
      },
      "text/plain": [
       "Trial:   0%|          | 0/5 [00:00<?, ?it/s]"
      ]
     },
     "metadata": {},
     "output_type": "display_data"
    },
    {
     "data": {
      "application/vnd.jupyter.widget-view+json": {
       "model_id": "",
       "version_major": 2,
       "version_minor": 0
      },
      "text/plain": [
       "Train size:   0%|          | 0/5 [00:00<?, ?it/s]"
      ]
     },
     "metadata": {},
     "output_type": "display_data"
    },
    {
     "data": {
      "application/vnd.jupyter.widget-view+json": {
       "model_id": "",
       "version_major": 2,
       "version_minor": 0
      },
      "text/plain": [
       "Trial:   0%|          | 0/5 [00:00<?, ?it/s]"
      ]
     },
     "metadata": {},
     "output_type": "display_data"
    },
    {
     "data": {
      "application/vnd.jupyter.widget-view+json": {
       "model_id": "",
       "version_major": 2,
       "version_minor": 0
      },
      "text/plain": [
       "Trial:   0%|          | 0/5 [00:00<?, ?it/s]"
      ]
     },
     "metadata": {},
     "output_type": "display_data"
    },
    {
     "data": {
      "application/vnd.jupyter.widget-view+json": {
       "model_id": "",
       "version_major": 2,
       "version_minor": 0
      },
      "text/plain": [
       "Trial:   0%|          | 0/5 [00:00<?, ?it/s]"
      ]
     },
     "metadata": {},
     "output_type": "display_data"
    },
    {
     "data": {
      "application/vnd.jupyter.widget-view+json": {
       "model_id": "",
       "version_major": 2,
       "version_minor": 0
      },
      "text/plain": [
       "Trial:   0%|          | 0/5 [00:00<?, ?it/s]"
      ]
     },
     "metadata": {},
     "output_type": "display_data"
    },
    {
     "data": {
      "application/vnd.jupyter.widget-view+json": {
       "model_id": "",
       "version_major": 2,
       "version_minor": 0
      },
      "text/plain": [
       "Trial:   0%|          | 0/5 [00:00<?, ?it/s]"
      ]
     },
     "metadata": {},
     "output_type": "display_data"
    },
    {
     "data": {
      "application/vnd.jupyter.widget-view+json": {
       "model_id": "",
       "version_major": 2,
       "version_minor": 0
      },
      "text/plain": [
       "Train size:   0%|          | 0/5 [00:00<?, ?it/s]"
      ]
     },
     "metadata": {},
     "output_type": "display_data"
    },
    {
     "data": {
      "application/vnd.jupyter.widget-view+json": {
       "model_id": "",
       "version_major": 2,
       "version_minor": 0
      },
      "text/plain": [
       "Trial:   0%|          | 0/5 [00:00<?, ?it/s]"
      ]
     },
     "metadata": {},
     "output_type": "display_data"
    },
    {
     "data": {
      "application/vnd.jupyter.widget-view+json": {
       "model_id": "",
       "version_major": 2,
       "version_minor": 0
      },
      "text/plain": [
       "Trial:   0%|          | 0/5 [00:00<?, ?it/s]"
      ]
     },
     "metadata": {},
     "output_type": "display_data"
    },
    {
     "data": {
      "application/vnd.jupyter.widget-view+json": {
       "model_id": "",
       "version_major": 2,
       "version_minor": 0
      },
      "text/plain": [
       "Trial:   0%|          | 0/5 [00:00<?, ?it/s]"
      ]
     },
     "metadata": {},
     "output_type": "display_data"
    },
    {
     "data": {
      "application/vnd.jupyter.widget-view+json": {
       "model_id": "",
       "version_major": 2,
       "version_minor": 0
      },
      "text/plain": [
       "Trial:   0%|          | 0/5 [00:00<?, ?it/s]"
      ]
     },
     "metadata": {},
     "output_type": "display_data"
    },
    {
     "data": {
      "application/vnd.jupyter.widget-view+json": {
       "model_id": "",
       "version_major": 2,
       "version_minor": 0
      },
      "text/plain": [
       "Trial:   0%|          | 0/5 [00:00<?, ?it/s]"
      ]
     },
     "metadata": {},
     "output_type": "display_data"
    },
    {
     "data": {
      "application/vnd.jupyter.widget-view+json": {
       "model_id": "d5c1bc3466d5454b9991eb725e595eff",
       "version_major": 2,
       "version_minor": 0
      },
      "text/plain": [
       "Model:   0%|          | 0/3 [00:00<?, ?it/s]"
      ]
     },
     "metadata": {},
     "output_type": "display_data"
    },
    {
     "data": {
      "application/vnd.jupyter.widget-view+json": {
       "model_id": "",
       "version_major": 2,
       "version_minor": 0
      },
      "text/plain": [
       "Train size:   0%|          | 0/5 [00:00<?, ?it/s]"
      ]
     },
     "metadata": {},
     "output_type": "display_data"
    },
    {
     "data": {
      "application/vnd.jupyter.widget-view+json": {
       "model_id": "",
       "version_major": 2,
       "version_minor": 0
      },
      "text/plain": [
       "Trial:   0%|          | 0/5 [00:00<?, ?it/s]"
      ]
     },
     "metadata": {},
     "output_type": "display_data"
    },
    {
     "data": {
      "application/vnd.jupyter.widget-view+json": {
       "model_id": "",
       "version_major": 2,
       "version_minor": 0
      },
      "text/plain": [
       "Trial:   0%|          | 0/5 [00:00<?, ?it/s]"
      ]
     },
     "metadata": {},
     "output_type": "display_data"
    },
    {
     "data": {
      "application/vnd.jupyter.widget-view+json": {
       "model_id": "",
       "version_major": 2,
       "version_minor": 0
      },
      "text/plain": [
       "Trial:   0%|          | 0/5 [00:00<?, ?it/s]"
      ]
     },
     "metadata": {},
     "output_type": "display_data"
    },
    {
     "data": {
      "application/vnd.jupyter.widget-view+json": {
       "model_id": "",
       "version_major": 2,
       "version_minor": 0
      },
      "text/plain": [
       "Trial:   0%|          | 0/5 [00:00<?, ?it/s]"
      ]
     },
     "metadata": {},
     "output_type": "display_data"
    },
    {
     "data": {
      "application/vnd.jupyter.widget-view+json": {
       "model_id": "",
       "version_major": 2,
       "version_minor": 0
      },
      "text/plain": [
       "Trial:   0%|          | 0/5 [00:00<?, ?it/s]"
      ]
     },
     "metadata": {},
     "output_type": "display_data"
    },
    {
     "data": {
      "application/vnd.jupyter.widget-view+json": {
       "model_id": "",
       "version_major": 2,
       "version_minor": 0
      },
      "text/plain": [
       "Train size:   0%|          | 0/5 [00:00<?, ?it/s]"
      ]
     },
     "metadata": {},
     "output_type": "display_data"
    },
    {
     "data": {
      "application/vnd.jupyter.widget-view+json": {
       "model_id": "",
       "version_major": 2,
       "version_minor": 0
      },
      "text/plain": [
       "Trial:   0%|          | 0/5 [00:00<?, ?it/s]"
      ]
     },
     "metadata": {},
     "output_type": "display_data"
    },
    {
     "data": {
      "application/vnd.jupyter.widget-view+json": {
       "model_id": "",
       "version_major": 2,
       "version_minor": 0
      },
      "text/plain": [
       "Trial:   0%|          | 0/5 [00:00<?, ?it/s]"
      ]
     },
     "metadata": {},
     "output_type": "display_data"
    },
    {
     "data": {
      "application/vnd.jupyter.widget-view+json": {
       "model_id": "",
       "version_major": 2,
       "version_minor": 0
      },
      "text/plain": [
       "Trial:   0%|          | 0/5 [00:00<?, ?it/s]"
      ]
     },
     "metadata": {},
     "output_type": "display_data"
    },
    {
     "data": {
      "application/vnd.jupyter.widget-view+json": {
       "model_id": "",
       "version_major": 2,
       "version_minor": 0
      },
      "text/plain": [
       "Trial:   0%|          | 0/5 [00:00<?, ?it/s]"
      ]
     },
     "metadata": {},
     "output_type": "display_data"
    },
    {
     "data": {
      "application/vnd.jupyter.widget-view+json": {
       "model_id": "",
       "version_major": 2,
       "version_minor": 0
      },
      "text/plain": [
       "Trial:   0%|          | 0/5 [00:00<?, ?it/s]"
      ]
     },
     "metadata": {},
     "output_type": "display_data"
    },
    {
     "data": {
      "application/vnd.jupyter.widget-view+json": {
       "model_id": "",
       "version_major": 2,
       "version_minor": 0
      },
      "text/plain": [
       "Train size:   0%|          | 0/5 [00:00<?, ?it/s]"
      ]
     },
     "metadata": {},
     "output_type": "display_data"
    },
    {
     "data": {
      "application/vnd.jupyter.widget-view+json": {
       "model_id": "",
       "version_major": 2,
       "version_minor": 0
      },
      "text/plain": [
       "Trial:   0%|          | 0/5 [00:00<?, ?it/s]"
      ]
     },
     "metadata": {},
     "output_type": "display_data"
    },
    {
     "data": {
      "application/vnd.jupyter.widget-view+json": {
       "model_id": "",
       "version_major": 2,
       "version_minor": 0
      },
      "text/plain": [
       "Trial:   0%|          | 0/5 [00:00<?, ?it/s]"
      ]
     },
     "metadata": {},
     "output_type": "display_data"
    },
    {
     "data": {
      "application/vnd.jupyter.widget-view+json": {
       "model_id": "",
       "version_major": 2,
       "version_minor": 0
      },
      "text/plain": [
       "Trial:   0%|          | 0/5 [00:00<?, ?it/s]"
      ]
     },
     "metadata": {},
     "output_type": "display_data"
    },
    {
     "data": {
      "application/vnd.jupyter.widget-view+json": {
       "model_id": "",
       "version_major": 2,
       "version_minor": 0
      },
      "text/plain": [
       "Trial:   0%|          | 0/5 [00:00<?, ?it/s]"
      ]
     },
     "metadata": {},
     "output_type": "display_data"
    },
    {
     "data": {
      "application/vnd.jupyter.widget-view+json": {
       "model_id": "",
       "version_major": 2,
       "version_minor": 0
      },
      "text/plain": [
       "Trial:   0%|          | 0/5 [00:00<?, ?it/s]"
      ]
     },
     "metadata": {},
     "output_type": "display_data"
    }
   ],
   "source": [
    "results = defaultdict(list)\n",
    "num_train_samples = [1000, 3000, 5000, 7000, 10000]\n",
    "\n",
    "for dataset, (X, y) in notebook.tqdm(datasets.items(), total=len(datasets), desc='Datasets'):\n",
    "    for model, param_grid in notebook.tqdm(zip(models, param_grids), total=len(models), desc='Model'):\n",
    "        for size in notebook.tqdm(num_train_samples, desc='Train size', leave=False):\n",
    "            # If dataset sample size < num_train_samples : skip\n",
    "            if X.shape[0]<size:\n",
    "                continue\n",
    "            for trial in notebook.tqdm(range(5), desc='Trial', leave=False):\n",
    "                indices = np.random.choice(range(len(X)), size=size, replace=False)\n",
    "                X_train = X[indices]\n",
    "                y_train = y[indices]\n",
    "\n",
    "                others = np.array(list(set(range(len(X))) - set(indices)))\n",
    "                X_test = X[others]\n",
    "                y_test = y[others]\n",
    "\n",
    "                X_train_scaled = mms.fit_transform(X_train)\n",
    "                X_test_scaled = mms.transform(X_test)\n",
    "\n",
    "                gs = GridSearchCV(estimator=model, param_grid=param_grid, cv=5)\n",
    "                gs.fit(X_train_scaled, y_train)\n",
    "\n",
    "                best_model = gs.best_estimator_\n",
    "                best_model.fit(X_train_scaled, y_train)\n",
    "                y_pred = best_model.predict(X_test_scaled)\n",
    "                y_prob = best_model.predict_proba(X_test_scaled)\n",
    "                \n",
    "                y_pred_train = best_model.predict(X_train_scaled)\n",
    "                y_prob_train = best_model.predict_proba(X_train_scaled)\n",
    "                \n",
    "                results['dataset'].append(dataset)\n",
    "                results['model'].append(str(model).strip('()'))\n",
    "                results['train_samples'].append(size)\n",
    "                results['mean_fit_time'].append(gs.cv_results_['mean_fit_time'].mean())\n",
    "                results['std_fit_time'].append(gs.cv_results_['std_fit_time'].mean())\n",
    "                results['trial'].append(trial+1)\n",
    "                results['best_params'].append(str(gs.best_params_))\n",
    "                \n",
    "                # Test set Scores\n",
    "                results['accuracy'].append(accuracy_score(y_test, y_pred))\n",
    "                results['f1_score'].append(f1_score(y_test, y_pred, labels=[0, 1]))\n",
    "                results['precision'].append(precision_score(y_test, y_pred, labels=[0, 1]))\n",
    "                results['recall'].append(recall_score(y_test, y_pred, labels=[0, 1]))\n",
    "                results['AUC'].append(roc_auc_score(y_test, y_prob[:, 1], labels=[0, 1]))\n",
    "                \n",
    "                # Train set Scores\n",
    "                results['train_accuracy'].append(accuracy_score(y_train, y_pred_train))\n",
    "                results['train_f1_score'].append(f1_score(y_train, y_pred_train, labels=[0, 1]))\n",
    "                results['train_precision'].append(precision_score(y_train, y_pred_train, labels=[0, 1]))\n",
    "                results['train_recall'].append(recall_score(y_train, y_pred_train, labels=[0, 1]))\n",
    "                results['train_AUC'].append(roc_auc_score(y_train, y_prob_train[:, 1], labels=[0, 1]))"
   ]
  },
  {
   "cell_type": "code",
   "execution_count": 32,
   "metadata": {},
   "outputs": [],
   "source": [
    "res = pd.DataFrame(results)"
   ]
  },
  {
   "cell_type": "markdown",
   "metadata": {},
   "source": [
    "## Analyze Result"
   ]
  },
  {
   "cell_type": "code",
   "execution_count": 33,
   "metadata": {},
   "outputs": [],
   "source": [
    "metrics = ['accuracy', 'f1_score', 'precision', 'recall', 'AUC']"
   ]
  },
  {
   "cell_type": "markdown",
   "metadata": {},
   "source": [
    "### Table2"
   ]
  },
  {
   "cell_type": "code",
   "execution_count": 43,
   "metadata": {},
   "outputs": [],
   "source": [
    "melted = pd.melt(res_5000, id_vars=['model', 'dataset'], value_vars=metrics, var_name='metric')"
   ]
  },
  {
   "cell_type": "code",
   "execution_count": 44,
   "metadata": {},
   "outputs": [],
   "source": [
    "table3 = melted.groupby(['model', 'dataset'], as_index=False)['value'].mean()"
   ]
  },
  {
   "cell_type": "code",
   "execution_count": 45,
   "metadata": {
    "scrolled": true
   },
   "outputs": [
    {
     "data": {
      "text/html": [
       "<div>\n",
       "<style scoped>\n",
       "    .dataframe tbody tr th:only-of-type {\n",
       "        vertical-align: middle;\n",
       "    }\n",
       "\n",
       "    .dataframe tbody tr th {\n",
       "        vertical-align: top;\n",
       "    }\n",
       "\n",
       "    .dataframe thead th {\n",
       "        text-align: right;\n",
       "    }\n",
       "</style>\n",
       "<table border=\"1\" class=\"dataframe\">\n",
       "  <thead>\n",
       "    <tr style=\"text-align: right;\">\n",
       "      <th></th>\n",
       "      <th>model</th>\n",
       "      <th>dataset</th>\n",
       "      <th>value</th>\n",
       "    </tr>\n",
       "  </thead>\n",
       "  <tbody>\n",
       "    <tr>\n",
       "      <th>0</th>\n",
       "      <td>GaussianNB</td>\n",
       "      <td>adult</td>\n",
       "      <td>0.698209</td>\n",
       "    </tr>\n",
       "    <tr>\n",
       "      <th>4</th>\n",
       "      <td>LogisticRegression</td>\n",
       "      <td>adult</td>\n",
       "      <td>0.317567</td>\n",
       "    </tr>\n",
       "    <tr>\n",
       "      <th>8</th>\n",
       "      <td>RandomForestClassifier</td>\n",
       "      <td>adult</td>\n",
       "      <td>0.742796</td>\n",
       "    </tr>\n",
       "    <tr>\n",
       "      <th>1</th>\n",
       "      <td>GaussianNB</td>\n",
       "      <td>card</td>\n",
       "      <td>0.583317</td>\n",
       "    </tr>\n",
       "    <tr>\n",
       "      <th>5</th>\n",
       "      <td>LogisticRegression</td>\n",
       "      <td>card</td>\n",
       "      <td>0.292323</td>\n",
       "    </tr>\n",
       "    <tr>\n",
       "      <th>9</th>\n",
       "      <td>RandomForestClassifier</td>\n",
       "      <td>card</td>\n",
       "      <td>0.606130</td>\n",
       "    </tr>\n",
       "    <tr>\n",
       "      <th>2</th>\n",
       "      <td>GaussianNB</td>\n",
       "      <td>magic</td>\n",
       "      <td>0.793047</td>\n",
       "    </tr>\n",
       "    <tr>\n",
       "      <th>6</th>\n",
       "      <td>LogisticRegression</td>\n",
       "      <td>magic</td>\n",
       "      <td>0.779213</td>\n",
       "    </tr>\n",
       "    <tr>\n",
       "      <th>10</th>\n",
       "      <td>RandomForestClassifier</td>\n",
       "      <td>magic</td>\n",
       "      <td>0.901401</td>\n",
       "    </tr>\n",
       "    <tr>\n",
       "      <th>3</th>\n",
       "      <td>GaussianNB</td>\n",
       "      <td>occupancy</td>\n",
       "      <td>0.964828</td>\n",
       "    </tr>\n",
       "    <tr>\n",
       "      <th>7</th>\n",
       "      <td>LogisticRegression</td>\n",
       "      <td>occupancy</td>\n",
       "      <td>0.353496</td>\n",
       "    </tr>\n",
       "    <tr>\n",
       "      <th>11</th>\n",
       "      <td>RandomForestClassifier</td>\n",
       "      <td>occupancy</td>\n",
       "      <td>0.992113</td>\n",
       "    </tr>\n",
       "  </tbody>\n",
       "</table>\n",
       "</div>"
      ],
      "text/plain": [
       "                     model    dataset     value\n",
       "0               GaussianNB      adult  0.698209\n",
       "4       LogisticRegression      adult  0.317567\n",
       "8   RandomForestClassifier      adult  0.742796\n",
       "1               GaussianNB       card  0.583317\n",
       "5       LogisticRegression       card  0.292323\n",
       "9   RandomForestClassifier       card  0.606130\n",
       "2               GaussianNB      magic  0.793047\n",
       "6       LogisticRegression      magic  0.779213\n",
       "10  RandomForestClassifier      magic  0.901401\n",
       "3               GaussianNB  occupancy  0.964828\n",
       "7       LogisticRegression  occupancy  0.353496\n",
       "11  RandomForestClassifier  occupancy  0.992113"
      ]
     },
     "execution_count": 45,
     "metadata": {},
     "output_type": "execute_result"
    }
   ],
   "source": [
    "table3.sort_values('dataset')"
   ]
  },
  {
   "cell_type": "code",
   "execution_count": 46,
   "metadata": {
    "scrolled": true
   },
   "outputs": [
    {
     "name": "stdout",
     "output_type": "stream",
     "text": [
      "[Dataset : adult]\n",
      "LogisticRegression - RandomForestClassifier\n",
      "t-score : -5.075, p-value : 0.000\n",
      "LogisticRegression - GaussianNB\n",
      "t-score : -4.488, p-value : 0.000\n",
      "RandomForestClassifier - GaussianNB\n",
      "t-score : 1.134, p-value : 0.262\n",
      "==================================================\n",
      "[Dataset : occupancy]\n",
      "LogisticRegression - RandomForestClassifier\n",
      "t-score : -7.171, p-value : 0.000\n",
      "LogisticRegression - GaussianNB\n",
      "t-score : -6.846, p-value : 0.000\n",
      "RandomForestClassifier - GaussianNB\n",
      "t-score : 4.097, p-value : 0.000\n",
      "==================================================\n",
      "[Dataset : card]\n",
      "LogisticRegression - RandomForestClassifier\n",
      "t-score : -3.783, p-value : 0.000\n",
      "LogisticRegression - GaussianNB\n",
      "t-score : -3.374, p-value : 0.001\n",
      "RandomForestClassifier - GaussianNB\n",
      "t-score : 0.382, p-value : 0.704\n",
      "==================================================\n",
      "[Dataset : magic]\n",
      "LogisticRegression - RandomForestClassifier\n",
      "t-score : -4.504, p-value : 0.000\n",
      "LogisticRegression - GaussianNB\n",
      "t-score : -0.451, p-value : 0.654\n",
      "RandomForestClassifier - GaussianNB\n",
      "t-score : 6.590, p-value : 0.000\n",
      "==================================================\n"
     ]
    }
   ],
   "source": [
    "for dataset in melted['dataset'].unique():\n",
    "    print('[Dataset : %s]'%dataset)\n",
    "    for model_a, model_b in combinations(melted['model'].unique(), 2):\n",
    "        print('%s - %s'%(model_a, model_b))\n",
    "        melted_filtered = melted[melted['dataset']==dataset].reset_index(drop=True)\n",
    "        \n",
    "        t_score, p_value = ttest_ind(melted_filtered[melted_filtered['model']==model_a]['value'].values,\n",
    "                           melted_filtered[melted_filtered['model']==model_b]['value'].values)\n",
    "        if pvalue<0.05:\n",
    "            print('t-score : %.3f'%t_score, end=', ')\n",
    "            print('p-value : %.3f'%p_value)\n",
    "        else:\n",
    "            print('t-score : %.3f'%t_score, end=', ')\n",
    "            print('p-value : %.3f'%p_value, 'Reject')\n",
    "    print('='*50)"
   ]
  },
  {
   "cell_type": "markdown",
   "metadata": {},
   "source": [
    "### Table3"
   ]
  },
  {
   "cell_type": "code",
   "execution_count": 35,
   "metadata": {},
   "outputs": [],
   "source": [
    "res_5000 = res[res['train_samples']==5000].reset_index(drop=True)"
   ]
  },
  {
   "cell_type": "code",
   "execution_count": 36,
   "metadata": {
    "scrolled": true
   },
   "outputs": [
    {
     "data": {
      "text/html": [
       "<div>\n",
       "<style scoped>\n",
       "    .dataframe tbody tr th:only-of-type {\n",
       "        vertical-align: middle;\n",
       "    }\n",
       "\n",
       "    .dataframe tbody tr th {\n",
       "        vertical-align: top;\n",
       "    }\n",
       "\n",
       "    .dataframe thead th {\n",
       "        text-align: right;\n",
       "    }\n",
       "</style>\n",
       "<table border=\"1\" class=\"dataframe\">\n",
       "  <thead>\n",
       "    <tr style=\"text-align: right;\">\n",
       "      <th></th>\n",
       "      <th>accuracy</th>\n",
       "      <th>f1_score</th>\n",
       "      <th>precision</th>\n",
       "      <th>recall</th>\n",
       "      <th>AUC</th>\n",
       "    </tr>\n",
       "    <tr>\n",
       "      <th>model</th>\n",
       "      <th></th>\n",
       "      <th></th>\n",
       "      <th></th>\n",
       "      <th></th>\n",
       "      <th></th>\n",
       "    </tr>\n",
       "  </thead>\n",
       "  <tbody>\n",
       "    <tr>\n",
       "      <th>GaussianNB</th>\n",
       "      <td>0.805192</td>\n",
       "      <td>0.693386</td>\n",
       "      <td>0.681812</td>\n",
       "      <td>0.787506</td>\n",
       "      <td>0.831356</td>\n",
       "    </tr>\n",
       "    <tr>\n",
       "      <th>LogisticRegression</th>\n",
       "      <td>0.743987</td>\n",
       "      <td>0.196623</td>\n",
       "      <td>0.162029</td>\n",
       "      <td>0.250000</td>\n",
       "      <td>0.825610</td>\n",
       "    </tr>\n",
       "    <tr>\n",
       "      <th>RandomForestClassifier</th>\n",
       "      <td>0.881506</td>\n",
       "      <td>0.744323</td>\n",
       "      <td>0.823076</td>\n",
       "      <td>0.704793</td>\n",
       "      <td>0.899351</td>\n",
       "    </tr>\n",
       "  </tbody>\n",
       "</table>\n",
       "</div>"
      ],
      "text/plain": [
       "                        accuracy  f1_score  precision    recall       AUC\n",
       "model                                                                    \n",
       "GaussianNB              0.805192  0.693386   0.681812  0.787506  0.831356\n",
       "LogisticRegression      0.743987  0.196623   0.162029  0.250000  0.825610\n",
       "RandomForestClassifier  0.881506  0.744323   0.823076  0.704793  0.899351"
      ]
     },
     "execution_count": 36,
     "metadata": {},
     "output_type": "execute_result"
    }
   ],
   "source": [
    "res_5000.groupby(['model'])[metrics].mean()"
   ]
  },
  {
   "cell_type": "code",
   "execution_count": 37,
   "metadata": {},
   "outputs": [],
   "source": [
    "from itertools import combinations\n",
    "from scipy.stats import ttest_rel, ttest_ind"
   ]
  },
  {
   "cell_type": "code",
   "execution_count": 38,
   "metadata": {
    "scrolled": false
   },
   "outputs": [
    {
     "name": "stdout",
     "output_type": "stream",
     "text": [
      "[Metric : accuracy]\n",
      "LogisticRegression - RandomForestClassifier\n",
      "p-value : 0.000\n",
      "LogisticRegression - GaussianNB\n",
      "p-value : 0.003\n",
      "RandomForestClassifier - GaussianNB\n",
      "p-value : 0.000\n",
      "==================================================\n",
      "[Metric : f1_score]\n",
      "LogisticRegression - RandomForestClassifier\n",
      "p-value : 0.000\n",
      "LogisticRegression - GaussianNB\n",
      "p-value : 0.000\n",
      "RandomForestClassifier - GaussianNB\n",
      "p-value : 0.048\n",
      "==================================================\n",
      "[Metric : precision]\n",
      "LogisticRegression - RandomForestClassifier\n",
      "p-value : 0.000\n",
      "LogisticRegression - GaussianNB\n",
      "p-value : 0.000\n",
      "RandomForestClassifier - GaussianNB\n",
      "p-value : 0.000\n",
      "==================================================\n",
      "[Metric : recall]\n",
      "LogisticRegression - RandomForestClassifier\n",
      "p-value : 0.000\n",
      "LogisticRegression - GaussianNB\n",
      "p-value : 0.000\n",
      "RandomForestClassifier - GaussianNB\n",
      "p-value : 0.032\n",
      "==================================================\n",
      "[Metric : AUC]\n",
      "LogisticRegression - RandomForestClassifier\n",
      "p-value : 0.000\n",
      "LogisticRegression - GaussianNB\n",
      "p-value : 0.514 Reject\n",
      "RandomForestClassifier - GaussianNB\n",
      "p-value : 0.000\n",
      "==================================================\n"
     ]
    }
   ],
   "source": [
    "for metric in metrics:\n",
    "    print('[Metric : %s]'%metric)\n",
    "    for model_a, model_b in combinations(res_5000['model'].unique(), 2):\n",
    "        print('%s - %s'%(model_a, model_b))\n",
    "        pvalue = ttest_rel(res_5000[res_5000['model']==model_a][metric].values, res_5000[res_5000['model']==model_b][metric].values)[1]\n",
    "        if pvalue<0.05:\n",
    "            print('p-value : %.3f'%pvalue)\n",
    "        else:\n",
    "            print('p-value : %.3f'%pvalue, 'Reject')\n",
    "    print('='*50)"
   ]
  },
  {
   "cell_type": "code",
   "execution_count": 39,
   "metadata": {},
   "outputs": [],
   "source": [
    "melted = pd.melt(res_5000, id_vars=['model', 'dataset'], value_vars=metrics, var_name='metric')"
   ]
  },
  {
   "cell_type": "code",
   "execution_count": 40,
   "metadata": {},
   "outputs": [],
   "source": [
    "table3 = melted.groupby(['model', 'dataset'], as_index=False)['value'].mean()"
   ]
  },
  {
   "cell_type": "code",
   "execution_count": 41,
   "metadata": {
    "scrolled": true
   },
   "outputs": [
    {
     "data": {
      "text/html": [
       "<div>\n",
       "<style scoped>\n",
       "    .dataframe tbody tr th:only-of-type {\n",
       "        vertical-align: middle;\n",
       "    }\n",
       "\n",
       "    .dataframe tbody tr th {\n",
       "        vertical-align: top;\n",
       "    }\n",
       "\n",
       "    .dataframe thead th {\n",
       "        text-align: right;\n",
       "    }\n",
       "</style>\n",
       "<table border=\"1\" class=\"dataframe\">\n",
       "  <thead>\n",
       "    <tr style=\"text-align: right;\">\n",
       "      <th></th>\n",
       "      <th>model</th>\n",
       "      <th>dataset</th>\n",
       "      <th>value</th>\n",
       "    </tr>\n",
       "  </thead>\n",
       "  <tbody>\n",
       "    <tr>\n",
       "      <th>0</th>\n",
       "      <td>GaussianNB</td>\n",
       "      <td>adult</td>\n",
       "      <td>0.698209</td>\n",
       "    </tr>\n",
       "    <tr>\n",
       "      <th>4</th>\n",
       "      <td>LogisticRegression</td>\n",
       "      <td>adult</td>\n",
       "      <td>0.317567</td>\n",
       "    </tr>\n",
       "    <tr>\n",
       "      <th>8</th>\n",
       "      <td>RandomForestClassifier</td>\n",
       "      <td>adult</td>\n",
       "      <td>0.742796</td>\n",
       "    </tr>\n",
       "    <tr>\n",
       "      <th>1</th>\n",
       "      <td>GaussianNB</td>\n",
       "      <td>card</td>\n",
       "      <td>0.583317</td>\n",
       "    </tr>\n",
       "    <tr>\n",
       "      <th>5</th>\n",
       "      <td>LogisticRegression</td>\n",
       "      <td>card</td>\n",
       "      <td>0.292323</td>\n",
       "    </tr>\n",
       "    <tr>\n",
       "      <th>9</th>\n",
       "      <td>RandomForestClassifier</td>\n",
       "      <td>card</td>\n",
       "      <td>0.606130</td>\n",
       "    </tr>\n",
       "    <tr>\n",
       "      <th>2</th>\n",
       "      <td>GaussianNB</td>\n",
       "      <td>magic</td>\n",
       "      <td>0.793047</td>\n",
       "    </tr>\n",
       "    <tr>\n",
       "      <th>6</th>\n",
       "      <td>LogisticRegression</td>\n",
       "      <td>magic</td>\n",
       "      <td>0.779213</td>\n",
       "    </tr>\n",
       "    <tr>\n",
       "      <th>10</th>\n",
       "      <td>RandomForestClassifier</td>\n",
       "      <td>magic</td>\n",
       "      <td>0.901401</td>\n",
       "    </tr>\n",
       "    <tr>\n",
       "      <th>3</th>\n",
       "      <td>GaussianNB</td>\n",
       "      <td>occupancy</td>\n",
       "      <td>0.964828</td>\n",
       "    </tr>\n",
       "    <tr>\n",
       "      <th>7</th>\n",
       "      <td>LogisticRegression</td>\n",
       "      <td>occupancy</td>\n",
       "      <td>0.353496</td>\n",
       "    </tr>\n",
       "    <tr>\n",
       "      <th>11</th>\n",
       "      <td>RandomForestClassifier</td>\n",
       "      <td>occupancy</td>\n",
       "      <td>0.992113</td>\n",
       "    </tr>\n",
       "  </tbody>\n",
       "</table>\n",
       "</div>"
      ],
      "text/plain": [
       "                     model    dataset     value\n",
       "0               GaussianNB      adult  0.698209\n",
       "4       LogisticRegression      adult  0.317567\n",
       "8   RandomForestClassifier      adult  0.742796\n",
       "1               GaussianNB       card  0.583317\n",
       "5       LogisticRegression       card  0.292323\n",
       "9   RandomForestClassifier       card  0.606130\n",
       "2               GaussianNB      magic  0.793047\n",
       "6       LogisticRegression      magic  0.779213\n",
       "10  RandomForestClassifier      magic  0.901401\n",
       "3               GaussianNB  occupancy  0.964828\n",
       "7       LogisticRegression  occupancy  0.353496\n",
       "11  RandomForestClassifier  occupancy  0.992113"
      ]
     },
     "execution_count": 41,
     "metadata": {},
     "output_type": "execute_result"
    }
   ],
   "source": [
    "table3.sort_values('dataset')"
   ]
  },
  {
   "cell_type": "code",
   "execution_count": 42,
   "metadata": {
    "scrolled": true
   },
   "outputs": [
    {
     "name": "stdout",
     "output_type": "stream",
     "text": [
      "[Dataset : adult]\n",
      "LogisticRegression - RandomForestClassifier\n",
      "t-score : -5.075, p-value : 0.000\n",
      "LogisticRegression - GaussianNB\n",
      "t-score : -4.488, p-value : 0.000\n",
      "RandomForestClassifier - GaussianNB\n",
      "t-score : 1.134, p-value : 0.262\n",
      "==================================================\n",
      "[Dataset : occupancy]\n",
      "LogisticRegression - RandomForestClassifier\n",
      "t-score : -7.171, p-value : 0.000\n",
      "LogisticRegression - GaussianNB\n",
      "t-score : -6.846, p-value : 0.000\n",
      "RandomForestClassifier - GaussianNB\n",
      "t-score : 4.097, p-value : 0.000\n",
      "==================================================\n",
      "[Dataset : card]\n",
      "LogisticRegression - RandomForestClassifier\n",
      "t-score : -3.783, p-value : 0.000\n",
      "LogisticRegression - GaussianNB\n",
      "t-score : -3.374, p-value : 0.001\n",
      "RandomForestClassifier - GaussianNB\n",
      "t-score : 0.382, p-value : 0.704\n",
      "==================================================\n",
      "[Dataset : magic]\n",
      "LogisticRegression - RandomForestClassifier\n",
      "t-score : -4.504, p-value : 0.000\n",
      "LogisticRegression - GaussianNB\n",
      "t-score : -0.451, p-value : 0.654\n",
      "RandomForestClassifier - GaussianNB\n",
      "t-score : 6.590, p-value : 0.000\n",
      "==================================================\n"
     ]
    }
   ],
   "source": [
    "for dataset in melted['dataset'].unique():\n",
    "    print('[Dataset : %s]'%dataset)\n",
    "    for model_a, model_b in combinations(melted['model'].unique(), 2):\n",
    "        print('%s - %s'%(model_a, model_b))\n",
    "        melted_filtered = melted[melted['dataset']==dataset].reset_index(drop=True)\n",
    "        \n",
    "        t_score, p_value = ttest_ind(melted_filtered[melted_filtered['model']==model_a]['value'].values,\n",
    "                           melted_filtered[melted_filtered['model']==model_b]['value'].values)\n",
    "        if pvalue<0.05:\n",
    "            print('t-score : %.3f'%t_score, end=', ')\n",
    "            print('p-value : %.3f'%p_value)\n",
    "        else:\n",
    "            print('t-score : %.3f'%t_score, end=', ')\n",
    "            print('p-value : %.3f'%p_value, 'Reject')\n",
    "    print('='*50)"
   ]
  },
  {
   "cell_type": "markdown",
   "metadata": {},
   "source": [
    "### Training Scores vs Test Scores"
   ]
  },
  {
   "cell_type": "code",
   "execution_count": 47,
   "metadata": {
    "scrolled": true
   },
   "outputs": [
    {
     "data": {
      "text/html": [
       "<div>\n",
       "<style scoped>\n",
       "    .dataframe tbody tr th:only-of-type {\n",
       "        vertical-align: middle;\n",
       "    }\n",
       "\n",
       "    .dataframe tbody tr th {\n",
       "        vertical-align: top;\n",
       "    }\n",
       "\n",
       "    .dataframe thead th {\n",
       "        text-align: right;\n",
       "    }\n",
       "</style>\n",
       "<table border=\"1\" class=\"dataframe\">\n",
       "  <thead>\n",
       "    <tr style=\"text-align: right;\">\n",
       "      <th></th>\n",
       "      <th></th>\n",
       "      <th>accuracy</th>\n",
       "      <th>f1_score</th>\n",
       "      <th>precision</th>\n",
       "      <th>recall</th>\n",
       "      <th>AUC</th>\n",
       "    </tr>\n",
       "    <tr>\n",
       "      <th>model</th>\n",
       "      <th>dataset</th>\n",
       "      <th></th>\n",
       "      <th></th>\n",
       "      <th></th>\n",
       "      <th></th>\n",
       "      <th></th>\n",
       "    </tr>\n",
       "  </thead>\n",
       "  <tbody>\n",
       "    <tr>\n",
       "      <th rowspan=\"4\" valign=\"top\">GaussianNB</th>\n",
       "      <th>adult</th>\n",
       "      <td>0.727796</td>\n",
       "      <td>0.604274</td>\n",
       "      <td>0.473298</td>\n",
       "      <td>0.835960</td>\n",
       "      <td>0.849719</td>\n",
       "    </tr>\n",
       "    <tr>\n",
       "      <th>card</th>\n",
       "      <td>0.784328</td>\n",
       "      <td>0.402489</td>\n",
       "      <td>0.614458</td>\n",
       "      <td>0.392123</td>\n",
       "      <td>0.723189</td>\n",
       "    </tr>\n",
       "    <tr>\n",
       "      <th>magic</th>\n",
       "      <td>0.730599</td>\n",
       "      <td>0.817318</td>\n",
       "      <td>0.729227</td>\n",
       "      <td>0.929621</td>\n",
       "      <td>0.758469</td>\n",
       "    </tr>\n",
       "    <tr>\n",
       "      <th>occupancy</th>\n",
       "      <td>0.978046</td>\n",
       "      <td>0.949461</td>\n",
       "      <td>0.910266</td>\n",
       "      <td>0.992321</td>\n",
       "      <td>0.994047</td>\n",
       "    </tr>\n",
       "    <tr>\n",
       "      <th rowspan=\"4\" valign=\"top\">LogisticRegression</th>\n",
       "      <th>adult</th>\n",
       "      <td>0.750600</td>\n",
       "      <td>0.000000</td>\n",
       "      <td>0.000000</td>\n",
       "      <td>0.000000</td>\n",
       "      <td>0.837234</td>\n",
       "    </tr>\n",
       "    <tr>\n",
       "      <th>card</th>\n",
       "      <td>0.778120</td>\n",
       "      <td>0.000000</td>\n",
       "      <td>0.000000</td>\n",
       "      <td>0.000000</td>\n",
       "      <td>0.683497</td>\n",
       "    </tr>\n",
       "    <tr>\n",
       "      <th>magic</th>\n",
       "      <td>0.648117</td>\n",
       "      <td>0.786491</td>\n",
       "      <td>0.648117</td>\n",
       "      <td>1.000000</td>\n",
       "      <td>0.813338</td>\n",
       "    </tr>\n",
       "    <tr>\n",
       "      <th>occupancy</th>\n",
       "      <td>0.799109</td>\n",
       "      <td>0.000000</td>\n",
       "      <td>0.000000</td>\n",
       "      <td>0.000000</td>\n",
       "      <td>0.968371</td>\n",
       "    </tr>\n",
       "    <tr>\n",
       "      <th rowspan=\"4\" valign=\"top\">RandomForestClassifier</th>\n",
       "      <th>adult</th>\n",
       "      <td>0.845569</td>\n",
       "      <td>0.644284</td>\n",
       "      <td>0.763163</td>\n",
       "      <td>0.562551</td>\n",
       "      <td>0.898411</td>\n",
       "    </tr>\n",
       "    <tr>\n",
       "      <th>card</th>\n",
       "      <td>0.815968</td>\n",
       "      <td>0.441548</td>\n",
       "      <td>0.670839</td>\n",
       "      <td>0.329487</td>\n",
       "      <td>0.772806</td>\n",
       "    </tr>\n",
       "    <tr>\n",
       "      <th>magic</th>\n",
       "      <td>0.869387</td>\n",
       "      <td>0.902854</td>\n",
       "      <td>0.870704</td>\n",
       "      <td>0.937498</td>\n",
       "      <td>0.926561</td>\n",
       "    </tr>\n",
       "    <tr>\n",
       "      <th>occupancy</th>\n",
       "      <td>0.995100</td>\n",
       "      <td>0.988608</td>\n",
       "      <td>0.987598</td>\n",
       "      <td>0.989634</td>\n",
       "      <td>0.999626</td>\n",
       "    </tr>\n",
       "  </tbody>\n",
       "</table>\n",
       "</div>"
      ],
      "text/plain": [
       "                                  accuracy  f1_score  precision    recall  \\\n",
       "model                  dataset                                              \n",
       "GaussianNB             adult      0.727796  0.604274   0.473298  0.835960   \n",
       "                       card       0.784328  0.402489   0.614458  0.392123   \n",
       "                       magic      0.730599  0.817318   0.729227  0.929621   \n",
       "                       occupancy  0.978046  0.949461   0.910266  0.992321   \n",
       "LogisticRegression     adult      0.750600  0.000000   0.000000  0.000000   \n",
       "                       card       0.778120  0.000000   0.000000  0.000000   \n",
       "                       magic      0.648117  0.786491   0.648117  1.000000   \n",
       "                       occupancy  0.799109  0.000000   0.000000  0.000000   \n",
       "RandomForestClassifier adult      0.845569  0.644284   0.763163  0.562551   \n",
       "                       card       0.815968  0.441548   0.670839  0.329487   \n",
       "                       magic      0.869387  0.902854   0.870704  0.937498   \n",
       "                       occupancy  0.995100  0.988608   0.987598  0.989634   \n",
       "\n",
       "                                       AUC  \n",
       "model                  dataset              \n",
       "GaussianNB             adult      0.849719  \n",
       "                       card       0.723189  \n",
       "                       magic      0.758469  \n",
       "                       occupancy  0.994047  \n",
       "LogisticRegression     adult      0.837234  \n",
       "                       card       0.683497  \n",
       "                       magic      0.813338  \n",
       "                       occupancy  0.968371  \n",
       "RandomForestClassifier adult      0.898411  \n",
       "                       card       0.772806  \n",
       "                       magic      0.926561  \n",
       "                       occupancy  0.999626  "
      ]
     },
     "execution_count": 47,
     "metadata": {},
     "output_type": "execute_result"
    }
   ],
   "source": [
    "res_5000.groupby(['model', 'dataset'])[metrics].mean()"
   ]
  },
  {
   "cell_type": "code",
   "execution_count": 48,
   "metadata": {},
   "outputs": [
    {
     "data": {
      "text/html": [
       "<div>\n",
       "<style scoped>\n",
       "    .dataframe tbody tr th:only-of-type {\n",
       "        vertical-align: middle;\n",
       "    }\n",
       "\n",
       "    .dataframe tbody tr th {\n",
       "        vertical-align: top;\n",
       "    }\n",
       "\n",
       "    .dataframe thead th {\n",
       "        text-align: right;\n",
       "    }\n",
       "</style>\n",
       "<table border=\"1\" class=\"dataframe\">\n",
       "  <thead>\n",
       "    <tr style=\"text-align: right;\">\n",
       "      <th></th>\n",
       "      <th></th>\n",
       "      <th>train_accuracy</th>\n",
       "      <th>train_f1_score</th>\n",
       "      <th>train_precision</th>\n",
       "      <th>train_recall</th>\n",
       "      <th>train_AUC</th>\n",
       "    </tr>\n",
       "    <tr>\n",
       "      <th>model</th>\n",
       "      <th>dataset</th>\n",
       "      <th></th>\n",
       "      <th></th>\n",
       "      <th></th>\n",
       "      <th></th>\n",
       "      <th></th>\n",
       "    </tr>\n",
       "  </thead>\n",
       "  <tbody>\n",
       "    <tr>\n",
       "      <th rowspan=\"4\" valign=\"top\">GaussianNB</th>\n",
       "      <th>adult</th>\n",
       "      <td>0.73368</td>\n",
       "      <td>0.613431</td>\n",
       "      <td>0.481530</td>\n",
       "      <td>0.845136</td>\n",
       "      <td>0.855521</td>\n",
       "    </tr>\n",
       "    <tr>\n",
       "      <th>card</th>\n",
       "      <td>0.78380</td>\n",
       "      <td>0.399051</td>\n",
       "      <td>0.407462</td>\n",
       "      <td>0.391441</td>\n",
       "      <td>0.724357</td>\n",
       "    </tr>\n",
       "    <tr>\n",
       "      <th>magic</th>\n",
       "      <td>0.73304</td>\n",
       "      <td>0.818764</td>\n",
       "      <td>0.731392</td>\n",
       "      <td>0.929877</td>\n",
       "      <td>0.765731</td>\n",
       "    </tr>\n",
       "    <tr>\n",
       "      <th>occupancy</th>\n",
       "      <td>0.97960</td>\n",
       "      <td>0.954520</td>\n",
       "      <td>0.918019</td>\n",
       "      <td>0.994055</td>\n",
       "      <td>0.993809</td>\n",
       "    </tr>\n",
       "    <tr>\n",
       "      <th rowspan=\"4\" valign=\"top\">LogisticRegression</th>\n",
       "      <th>adult</th>\n",
       "      <td>0.75348</td>\n",
       "      <td>0.000000</td>\n",
       "      <td>0.000000</td>\n",
       "      <td>0.000000</td>\n",
       "      <td>0.840572</td>\n",
       "    </tr>\n",
       "    <tr>\n",
       "      <th>card</th>\n",
       "      <td>0.78220</td>\n",
       "      <td>0.000000</td>\n",
       "      <td>0.000000</td>\n",
       "      <td>0.000000</td>\n",
       "      <td>0.679574</td>\n",
       "    </tr>\n",
       "    <tr>\n",
       "      <th>magic</th>\n",
       "      <td>0.64908</td>\n",
       "      <td>0.787178</td>\n",
       "      <td>0.649080</td>\n",
       "      <td>1.000000</td>\n",
       "      <td>0.815153</td>\n",
       "    </tr>\n",
       "    <tr>\n",
       "      <th>occupancy</th>\n",
       "      <td>0.78048</td>\n",
       "      <td>0.000000</td>\n",
       "      <td>0.000000</td>\n",
       "      <td>0.000000</td>\n",
       "      <td>0.965498</td>\n",
       "    </tr>\n",
       "    <tr>\n",
       "      <th rowspan=\"4\" valign=\"top\">RandomForestClassifier</th>\n",
       "      <th>adult</th>\n",
       "      <td>0.94236</td>\n",
       "      <td>0.854156</td>\n",
       "      <td>0.929188</td>\n",
       "      <td>0.806983</td>\n",
       "      <td>0.967917</td>\n",
       "    </tr>\n",
       "    <tr>\n",
       "      <th>card</th>\n",
       "      <td>0.84932</td>\n",
       "      <td>0.548442</td>\n",
       "      <td>0.821804</td>\n",
       "      <td>0.411863</td>\n",
       "      <td>0.839631</td>\n",
       "    </tr>\n",
       "    <tr>\n",
       "      <th>magic</th>\n",
       "      <td>0.99996</td>\n",
       "      <td>0.999969</td>\n",
       "      <td>0.999939</td>\n",
       "      <td>1.000000</td>\n",
       "      <td>1.000000</td>\n",
       "    </tr>\n",
       "    <tr>\n",
       "      <th>occupancy</th>\n",
       "      <td>1.00000</td>\n",
       "      <td>1.000000</td>\n",
       "      <td>1.000000</td>\n",
       "      <td>1.000000</td>\n",
       "      <td>1.000000</td>\n",
       "    </tr>\n",
       "  </tbody>\n",
       "</table>\n",
       "</div>"
      ],
      "text/plain": [
       "                                  train_accuracy  train_f1_score  \\\n",
       "model                  dataset                                     \n",
       "GaussianNB             adult             0.73368        0.613431   \n",
       "                       card              0.78380        0.399051   \n",
       "                       magic             0.73304        0.818764   \n",
       "                       occupancy         0.97960        0.954520   \n",
       "LogisticRegression     adult             0.75348        0.000000   \n",
       "                       card              0.78220        0.000000   \n",
       "                       magic             0.64908        0.787178   \n",
       "                       occupancy         0.78048        0.000000   \n",
       "RandomForestClassifier adult             0.94236        0.854156   \n",
       "                       card              0.84932        0.548442   \n",
       "                       magic             0.99996        0.999969   \n",
       "                       occupancy         1.00000        1.000000   \n",
       "\n",
       "                                  train_precision  train_recall  train_AUC  \n",
       "model                  dataset                                              \n",
       "GaussianNB             adult             0.481530      0.845136   0.855521  \n",
       "                       card              0.407462      0.391441   0.724357  \n",
       "                       magic             0.731392      0.929877   0.765731  \n",
       "                       occupancy         0.918019      0.994055   0.993809  \n",
       "LogisticRegression     adult             0.000000      0.000000   0.840572  \n",
       "                       card              0.000000      0.000000   0.679574  \n",
       "                       magic             0.649080      1.000000   0.815153  \n",
       "                       occupancy         0.000000      0.000000   0.965498  \n",
       "RandomForestClassifier adult             0.929188      0.806983   0.967917  \n",
       "                       card              0.821804      0.411863   0.839631  \n",
       "                       magic             0.999939      1.000000   1.000000  \n",
       "                       occupancy         1.000000      1.000000   1.000000  "
      ]
     },
     "execution_count": 48,
     "metadata": {},
     "output_type": "execute_result"
    }
   ],
   "source": [
    "res_5000.groupby(['model', 'dataset'])[list(map(lambda x:'train_'+x, metrics))].mean()"
   ]
  },
  {
   "cell_type": "markdown",
   "metadata": {},
   "source": [
    "### Appendix 2"
   ]
  },
  {
   "cell_type": "code",
   "execution_count": 49,
   "metadata": {
    "scrolled": false
   },
   "outputs": [
    {
     "data": {
      "text/html": [
       "<div>\n",
       "<style scoped>\n",
       "    .dataframe tbody tr th:only-of-type {\n",
       "        vertical-align: middle;\n",
       "    }\n",
       "\n",
       "    .dataframe tbody tr th {\n",
       "        vertical-align: top;\n",
       "    }\n",
       "\n",
       "    .dataframe thead th {\n",
       "        text-align: right;\n",
       "    }\n",
       "</style>\n",
       "<table border=\"1\" class=\"dataframe\">\n",
       "  <thead>\n",
       "    <tr style=\"text-align: right;\">\n",
       "      <th></th>\n",
       "      <th>dataset</th>\n",
       "      <th>model</th>\n",
       "      <th>trial</th>\n",
       "      <th>accuracy</th>\n",
       "      <th>f1_score</th>\n",
       "      <th>precision</th>\n",
       "      <th>recall</th>\n",
       "      <th>AUC</th>\n",
       "    </tr>\n",
       "  </thead>\n",
       "  <tbody>\n",
       "    <tr>\n",
       "      <th>0</th>\n",
       "      <td>adult</td>\n",
       "      <td>LogisticRegression</td>\n",
       "      <td>1</td>\n",
       "      <td>0.749940</td>\n",
       "      <td>0.000000</td>\n",
       "      <td>0.000000</td>\n",
       "      <td>0.000000</td>\n",
       "      <td>0.837827</td>\n",
       "    </tr>\n",
       "    <tr>\n",
       "      <th>1</th>\n",
       "      <td>adult</td>\n",
       "      <td>LogisticRegression</td>\n",
       "      <td>2</td>\n",
       "      <td>0.749980</td>\n",
       "      <td>0.000000</td>\n",
       "      <td>0.000000</td>\n",
       "      <td>0.000000</td>\n",
       "      <td>0.837391</td>\n",
       "    </tr>\n",
       "    <tr>\n",
       "      <th>2</th>\n",
       "      <td>adult</td>\n",
       "      <td>LogisticRegression</td>\n",
       "      <td>3</td>\n",
       "      <td>0.752444</td>\n",
       "      <td>0.000000</td>\n",
       "      <td>0.000000</td>\n",
       "      <td>0.000000</td>\n",
       "      <td>0.838752</td>\n",
       "    </tr>\n",
       "    <tr>\n",
       "      <th>3</th>\n",
       "      <td>adult</td>\n",
       "      <td>LogisticRegression</td>\n",
       "      <td>4</td>\n",
       "      <td>0.749702</td>\n",
       "      <td>0.000000</td>\n",
       "      <td>0.000000</td>\n",
       "      <td>0.000000</td>\n",
       "      <td>0.833537</td>\n",
       "    </tr>\n",
       "    <tr>\n",
       "      <th>4</th>\n",
       "      <td>adult</td>\n",
       "      <td>LogisticRegression</td>\n",
       "      <td>5</td>\n",
       "      <td>0.750934</td>\n",
       "      <td>0.000000</td>\n",
       "      <td>0.000000</td>\n",
       "      <td>0.000000</td>\n",
       "      <td>0.838663</td>\n",
       "    </tr>\n",
       "    <tr>\n",
       "      <th>5</th>\n",
       "      <td>adult</td>\n",
       "      <td>RandomForestClassifier</td>\n",
       "      <td>1</td>\n",
       "      <td>0.844527</td>\n",
       "      <td>0.655513</td>\n",
       "      <td>0.729375</td>\n",
       "      <td>0.595234</td>\n",
       "      <td>0.897257</td>\n",
       "    </tr>\n",
       "    <tr>\n",
       "      <th>6</th>\n",
       "      <td>adult</td>\n",
       "      <td>RandomForestClassifier</td>\n",
       "      <td>2</td>\n",
       "      <td>0.846912</td>\n",
       "      <td>0.664284</td>\n",
       "      <td>0.737708</td>\n",
       "      <td>0.604153</td>\n",
       "      <td>0.895433</td>\n",
       "    </tr>\n",
       "    <tr>\n",
       "      <th>7</th>\n",
       "      <td>adult</td>\n",
       "      <td>RandomForestClassifier</td>\n",
       "      <td>3</td>\n",
       "      <td>0.844130</td>\n",
       "      <td>0.609129</td>\n",
       "      <td>0.820403</td>\n",
       "      <td>0.484387</td>\n",
       "      <td>0.904115</td>\n",
       "    </tr>\n",
       "    <tr>\n",
       "      <th>8</th>\n",
       "      <td>adult</td>\n",
       "      <td>RandomForestClassifier</td>\n",
       "      <td>4</td>\n",
       "      <td>0.845879</td>\n",
       "      <td>0.667410</td>\n",
       "      <td>0.727834</td>\n",
       "      <td>0.616250</td>\n",
       "      <td>0.893186</td>\n",
       "    </tr>\n",
       "    <tr>\n",
       "      <th>9</th>\n",
       "      <td>adult</td>\n",
       "      <td>RandomForestClassifier</td>\n",
       "      <td>5</td>\n",
       "      <td>0.846395</td>\n",
       "      <td>0.625085</td>\n",
       "      <td>0.800497</td>\n",
       "      <td>0.512731</td>\n",
       "      <td>0.902063</td>\n",
       "    </tr>\n",
       "    <tr>\n",
       "      <th>10</th>\n",
       "      <td>adult</td>\n",
       "      <td>GaussianNB</td>\n",
       "      <td>1</td>\n",
       "      <td>0.724306</td>\n",
       "      <td>0.595109</td>\n",
       "      <td>0.468609</td>\n",
       "      <td>0.815158</td>\n",
       "      <td>0.851814</td>\n",
       "    </tr>\n",
       "    <tr>\n",
       "      <th>11</th>\n",
       "      <td>adult</td>\n",
       "      <td>GaussianNB</td>\n",
       "      <td>2</td>\n",
       "      <td>0.722081</td>\n",
       "      <td>0.608739</td>\n",
       "      <td>0.466793</td>\n",
       "      <td>0.874739</td>\n",
       "      <td>0.847886</td>\n",
       "    </tr>\n",
       "    <tr>\n",
       "      <th>12</th>\n",
       "      <td>adult</td>\n",
       "      <td>GaussianNB</td>\n",
       "      <td>3</td>\n",
       "      <td>0.721048</td>\n",
       "      <td>0.592322</td>\n",
       "      <td>0.464898</td>\n",
       "      <td>0.815971</td>\n",
       "      <td>0.849081</td>\n",
       "    </tr>\n",
       "    <tr>\n",
       "      <th>13</th>\n",
       "      <td>adult</td>\n",
       "      <td>GaussianNB</td>\n",
       "      <td>4</td>\n",
       "      <td>0.724028</td>\n",
       "      <td>0.597962</td>\n",
       "      <td>0.471512</td>\n",
       "      <td>0.817089</td>\n",
       "      <td>0.850311</td>\n",
       "    </tr>\n",
       "    <tr>\n",
       "      <th>14</th>\n",
       "      <td>adult</td>\n",
       "      <td>GaussianNB</td>\n",
       "      <td>5</td>\n",
       "      <td>0.747516</td>\n",
       "      <td>0.627237</td>\n",
       "      <td>0.494678</td>\n",
       "      <td>0.856845</td>\n",
       "      <td>0.849504</td>\n",
       "    </tr>\n",
       "    <tr>\n",
       "      <th>15</th>\n",
       "      <td>occupancy</td>\n",
       "      <td>LogisticRegression</td>\n",
       "      <td>1</td>\n",
       "      <td>0.801782</td>\n",
       "      <td>0.000000</td>\n",
       "      <td>0.000000</td>\n",
       "      <td>0.000000</td>\n",
       "      <td>0.989385</td>\n",
       "    </tr>\n",
       "    <tr>\n",
       "      <th>16</th>\n",
       "      <td>occupancy</td>\n",
       "      <td>LogisticRegression</td>\n",
       "      <td>2</td>\n",
       "      <td>0.796373</td>\n",
       "      <td>0.000000</td>\n",
       "      <td>0.000000</td>\n",
       "      <td>0.000000</td>\n",
       "      <td>0.963205</td>\n",
       "    </tr>\n",
       "    <tr>\n",
       "      <th>17</th>\n",
       "      <td>occupancy</td>\n",
       "      <td>LogisticRegression</td>\n",
       "      <td>3</td>\n",
       "      <td>0.799236</td>\n",
       "      <td>0.000000</td>\n",
       "      <td>0.000000</td>\n",
       "      <td>0.000000</td>\n",
       "      <td>0.965292</td>\n",
       "    </tr>\n",
       "    <tr>\n",
       "      <th>18</th>\n",
       "      <td>occupancy</td>\n",
       "      <td>LogisticRegression</td>\n",
       "      <td>4</td>\n",
       "      <td>0.798600</td>\n",
       "      <td>0.000000</td>\n",
       "      <td>0.000000</td>\n",
       "      <td>0.000000</td>\n",
       "      <td>0.963483</td>\n",
       "    </tr>\n",
       "    <tr>\n",
       "      <th>19</th>\n",
       "      <td>occupancy</td>\n",
       "      <td>LogisticRegression</td>\n",
       "      <td>5</td>\n",
       "      <td>0.799555</td>\n",
       "      <td>0.000000</td>\n",
       "      <td>0.000000</td>\n",
       "      <td>0.000000</td>\n",
       "      <td>0.960492</td>\n",
       "    </tr>\n",
       "    <tr>\n",
       "      <th>20</th>\n",
       "      <td>occupancy</td>\n",
       "      <td>RandomForestClassifier</td>\n",
       "      <td>1</td>\n",
       "      <td>0.993955</td>\n",
       "      <td>0.985957</td>\n",
       "      <td>0.982327</td>\n",
       "      <td>0.989614</td>\n",
       "      <td>0.999790</td>\n",
       "    </tr>\n",
       "    <tr>\n",
       "      <th>21</th>\n",
       "      <td>occupancy</td>\n",
       "      <td>RandomForestClassifier</td>\n",
       "      <td>2</td>\n",
       "      <td>0.996182</td>\n",
       "      <td>0.991266</td>\n",
       "      <td>0.991266</td>\n",
       "      <td>0.991266</td>\n",
       "      <td>0.999668</td>\n",
       "    </tr>\n",
       "    <tr>\n",
       "      <th>22</th>\n",
       "      <td>occupancy</td>\n",
       "      <td>RandomForestClassifier</td>\n",
       "      <td>3</td>\n",
       "      <td>0.995546</td>\n",
       "      <td>0.989645</td>\n",
       "      <td>0.985272</td>\n",
       "      <td>0.994056</td>\n",
       "      <td>0.999668</td>\n",
       "    </tr>\n",
       "    <tr>\n",
       "      <th>23</th>\n",
       "      <td>occupancy</td>\n",
       "      <td>RandomForestClassifier</td>\n",
       "      <td>4</td>\n",
       "      <td>0.994273</td>\n",
       "      <td>0.986587</td>\n",
       "      <td>0.986587</td>\n",
       "      <td>0.986587</td>\n",
       "      <td>0.999092</td>\n",
       "    </tr>\n",
       "    <tr>\n",
       "      <th>24</th>\n",
       "      <td>occupancy</td>\n",
       "      <td>RandomForestClassifier</td>\n",
       "      <td>5</td>\n",
       "      <td>0.995546</td>\n",
       "      <td>0.989583</td>\n",
       "      <td>0.992537</td>\n",
       "      <td>0.986647</td>\n",
       "      <td>0.999914</td>\n",
       "    </tr>\n",
       "    <tr>\n",
       "      <th>25</th>\n",
       "      <td>occupancy</td>\n",
       "      <td>GaussianNB</td>\n",
       "      <td>1</td>\n",
       "      <td>0.976137</td>\n",
       "      <td>0.944155</td>\n",
       "      <td>0.898017</td>\n",
       "      <td>0.995290</td>\n",
       "      <td>0.993389</td>\n",
       "    </tr>\n",
       "    <tr>\n",
       "      <th>26</th>\n",
       "      <td>occupancy</td>\n",
       "      <td>GaussianNB</td>\n",
       "      <td>2</td>\n",
       "      <td>0.978683</td>\n",
       "      <td>0.950112</td>\n",
       "      <td>0.911429</td>\n",
       "      <td>0.992224</td>\n",
       "      <td>0.994013</td>\n",
       "    </tr>\n",
       "    <tr>\n",
       "      <th>27</th>\n",
       "      <td>occupancy</td>\n",
       "      <td>GaussianNB</td>\n",
       "      <td>3</td>\n",
       "      <td>0.978683</td>\n",
       "      <td>0.951625</td>\n",
       "      <td>0.915278</td>\n",
       "      <td>0.990977</td>\n",
       "      <td>0.995038</td>\n",
       "    </tr>\n",
       "    <tr>\n",
       "      <th>28</th>\n",
       "      <td>occupancy</td>\n",
       "      <td>GaussianNB</td>\n",
       "      <td>4</td>\n",
       "      <td>0.982183</td>\n",
       "      <td>0.957831</td>\n",
       "      <td>0.929825</td>\n",
       "      <td>0.987578</td>\n",
       "      <td>0.995010</td>\n",
       "    </tr>\n",
       "    <tr>\n",
       "      <th>29</th>\n",
       "      <td>occupancy</td>\n",
       "      <td>GaussianNB</td>\n",
       "      <td>5</td>\n",
       "      <td>0.974547</td>\n",
       "      <td>0.943583</td>\n",
       "      <td>0.896783</td>\n",
       "      <td>0.995536</td>\n",
       "      <td>0.992784</td>\n",
       "    </tr>\n",
       "    <tr>\n",
       "      <th>30</th>\n",
       "      <td>card</td>\n",
       "      <td>LogisticRegression</td>\n",
       "      <td>1</td>\n",
       "      <td>0.777000</td>\n",
       "      <td>0.000000</td>\n",
       "      <td>0.000000</td>\n",
       "      <td>0.000000</td>\n",
       "      <td>0.679706</td>\n",
       "    </tr>\n",
       "    <tr>\n",
       "      <th>31</th>\n",
       "      <td>card</td>\n",
       "      <td>LogisticRegression</td>\n",
       "      <td>2</td>\n",
       "      <td>0.779080</td>\n",
       "      <td>0.000000</td>\n",
       "      <td>0.000000</td>\n",
       "      <td>0.000000</td>\n",
       "      <td>0.680240</td>\n",
       "    </tr>\n",
       "    <tr>\n",
       "      <th>32</th>\n",
       "      <td>card</td>\n",
       "      <td>LogisticRegression</td>\n",
       "      <td>3</td>\n",
       "      <td>0.779160</td>\n",
       "      <td>0.000000</td>\n",
       "      <td>0.000000</td>\n",
       "      <td>0.000000</td>\n",
       "      <td>0.689312</td>\n",
       "    </tr>\n",
       "    <tr>\n",
       "      <th>33</th>\n",
       "      <td>card</td>\n",
       "      <td>LogisticRegression</td>\n",
       "      <td>4</td>\n",
       "      <td>0.778040</td>\n",
       "      <td>0.000000</td>\n",
       "      <td>0.000000</td>\n",
       "      <td>0.000000</td>\n",
       "      <td>0.682774</td>\n",
       "    </tr>\n",
       "    <tr>\n",
       "      <th>34</th>\n",
       "      <td>card</td>\n",
       "      <td>LogisticRegression</td>\n",
       "      <td>5</td>\n",
       "      <td>0.777320</td>\n",
       "      <td>0.000000</td>\n",
       "      <td>0.000000</td>\n",
       "      <td>0.000000</td>\n",
       "      <td>0.685451</td>\n",
       "    </tr>\n",
       "    <tr>\n",
       "      <th>35</th>\n",
       "      <td>card</td>\n",
       "      <td>RandomForestClassifier</td>\n",
       "      <td>1</td>\n",
       "      <td>0.815320</td>\n",
       "      <td>0.436883</td>\n",
       "      <td>0.678923</td>\n",
       "      <td>0.322064</td>\n",
       "      <td>0.775264</td>\n",
       "    </tr>\n",
       "    <tr>\n",
       "      <th>36</th>\n",
       "      <td>card</td>\n",
       "      <td>RandomForestClassifier</td>\n",
       "      <td>2</td>\n",
       "      <td>0.817720</td>\n",
       "      <td>0.441886</td>\n",
       "      <td>0.685932</td>\n",
       "      <td>0.325926</td>\n",
       "      <td>0.774085</td>\n",
       "    </tr>\n",
       "    <tr>\n",
       "      <th>37</th>\n",
       "      <td>card</td>\n",
       "      <td>RandomForestClassifier</td>\n",
       "      <td>3</td>\n",
       "      <td>0.813680</td>\n",
       "      <td>0.420503</td>\n",
       "      <td>0.672235</td>\n",
       "      <td>0.305938</td>\n",
       "      <td>0.770043</td>\n",
       "    </tr>\n",
       "    <tr>\n",
       "      <th>38</th>\n",
       "      <td>card</td>\n",
       "      <td>RandomForestClassifier</td>\n",
       "      <td>4</td>\n",
       "      <td>0.812800</td>\n",
       "      <td>0.448633</td>\n",
       "      <td>0.639570</td>\n",
       "      <td>0.345491</td>\n",
       "      <td>0.771375</td>\n",
       "    </tr>\n",
       "    <tr>\n",
       "      <th>39</th>\n",
       "      <td>card</td>\n",
       "      <td>RandomForestClassifier</td>\n",
       "      <td>5</td>\n",
       "      <td>0.820320</td>\n",
       "      <td>0.459836</td>\n",
       "      <td>0.677534</td>\n",
       "      <td>0.348016</td>\n",
       "      <td>0.773265</td>\n",
       "    </tr>\n",
       "    <tr>\n",
       "      <th>40</th>\n",
       "      <td>card</td>\n",
       "      <td>GaussianNB</td>\n",
       "      <td>1</td>\n",
       "      <td>0.785720</td>\n",
       "      <td>0.513221</td>\n",
       "      <td>0.514202</td>\n",
       "      <td>0.512244</td>\n",
       "      <td>0.731745</td>\n",
       "    </tr>\n",
       "    <tr>\n",
       "      <th>41</th>\n",
       "      <td>card</td>\n",
       "      <td>GaussianNB</td>\n",
       "      <td>2</td>\n",
       "      <td>0.780680</td>\n",
       "      <td>0.507589</td>\n",
       "      <td>0.504463</td>\n",
       "      <td>0.510754</td>\n",
       "      <td>0.729209</td>\n",
       "    </tr>\n",
       "    <tr>\n",
       "      <th>42</th>\n",
       "      <td>card</td>\n",
       "      <td>GaussianNB</td>\n",
       "      <td>3</td>\n",
       "      <td>0.786760</td>\n",
       "      <td>0.479953</td>\n",
       "      <td>0.526654</td>\n",
       "      <td>0.440860</td>\n",
       "      <td>0.727632</td>\n",
       "    </tr>\n",
       "    <tr>\n",
       "      <th>43</th>\n",
       "      <td>card</td>\n",
       "      <td>GaussianNB</td>\n",
       "      <td>4</td>\n",
       "      <td>0.779120</td>\n",
       "      <td>0.000362</td>\n",
       "      <td>1.000000</td>\n",
       "      <td>0.000181</td>\n",
       "      <td>0.692563</td>\n",
       "    </tr>\n",
       "    <tr>\n",
       "      <th>44</th>\n",
       "      <td>card</td>\n",
       "      <td>GaussianNB</td>\n",
       "      <td>5</td>\n",
       "      <td>0.789360</td>\n",
       "      <td>0.511321</td>\n",
       "      <td>0.526970</td>\n",
       "      <td>0.496575</td>\n",
       "      <td>0.734797</td>\n",
       "    </tr>\n",
       "    <tr>\n",
       "      <th>45</th>\n",
       "      <td>magic</td>\n",
       "      <td>LogisticRegression</td>\n",
       "      <td>1</td>\n",
       "      <td>0.649857</td>\n",
       "      <td>0.787774</td>\n",
       "      <td>0.649857</td>\n",
       "      <td>1.000000</td>\n",
       "      <td>0.811469</td>\n",
       "    </tr>\n",
       "    <tr>\n",
       "      <th>46</th>\n",
       "      <td>magic</td>\n",
       "      <td>LogisticRegression</td>\n",
       "      <td>2</td>\n",
       "      <td>0.647718</td>\n",
       "      <td>0.786200</td>\n",
       "      <td>0.647718</td>\n",
       "      <td>1.000000</td>\n",
       "      <td>0.812412</td>\n",
       "    </tr>\n",
       "    <tr>\n",
       "      <th>47</th>\n",
       "      <td>magic</td>\n",
       "      <td>LogisticRegression</td>\n",
       "      <td>3</td>\n",
       "      <td>0.644151</td>\n",
       "      <td>0.783567</td>\n",
       "      <td>0.644151</td>\n",
       "      <td>1.000000</td>\n",
       "      <td>0.816298</td>\n",
       "    </tr>\n",
       "    <tr>\n",
       "      <th>48</th>\n",
       "      <td>magic</td>\n",
       "      <td>LogisticRegression</td>\n",
       "      <td>4</td>\n",
       "      <td>0.646933</td>\n",
       "      <td>0.785621</td>\n",
       "      <td>0.646933</td>\n",
       "      <td>1.000000</td>\n",
       "      <td>0.807970</td>\n",
       "    </tr>\n",
       "    <tr>\n",
       "      <th>49</th>\n",
       "      <td>magic</td>\n",
       "      <td>LogisticRegression</td>\n",
       "      <td>5</td>\n",
       "      <td>0.651926</td>\n",
       "      <td>0.789292</td>\n",
       "      <td>0.651926</td>\n",
       "      <td>1.000000</td>\n",
       "      <td>0.818541</td>\n",
       "    </tr>\n",
       "    <tr>\n",
       "      <th>50</th>\n",
       "      <td>magic</td>\n",
       "      <td>RandomForestClassifier</td>\n",
       "      <td>1</td>\n",
       "      <td>0.870471</td>\n",
       "      <td>0.904047</td>\n",
       "      <td>0.868175</td>\n",
       "      <td>0.943011</td>\n",
       "      <td>0.924411</td>\n",
       "    </tr>\n",
       "    <tr>\n",
       "      <th>51</th>\n",
       "      <td>magic</td>\n",
       "      <td>RandomForestClassifier</td>\n",
       "      <td>2</td>\n",
       "      <td>0.865121</td>\n",
       "      <td>0.899591</td>\n",
       "      <td>0.866510</td>\n",
       "      <td>0.935299</td>\n",
       "      <td>0.924466</td>\n",
       "    </tr>\n",
       "    <tr>\n",
       "      <th>52</th>\n",
       "      <td>magic</td>\n",
       "      <td>RandomForestClassifier</td>\n",
       "      <td>3</td>\n",
       "      <td>0.871897</td>\n",
       "      <td>0.904600</td>\n",
       "      <td>0.878469</td>\n",
       "      <td>0.932333</td>\n",
       "      <td>0.926563</td>\n",
       "    </tr>\n",
       "    <tr>\n",
       "      <th>53</th>\n",
       "      <td>magic</td>\n",
       "      <td>RandomForestClassifier</td>\n",
       "      <td>4</td>\n",
       "      <td>0.868117</td>\n",
       "      <td>0.901967</td>\n",
       "      <td>0.870179</td>\n",
       "      <td>0.936166</td>\n",
       "      <td>0.925832</td>\n",
       "    </tr>\n",
       "    <tr>\n",
       "      <th>54</th>\n",
       "      <td>magic</td>\n",
       "      <td>RandomForestClassifier</td>\n",
       "      <td>5</td>\n",
       "      <td>0.871327</td>\n",
       "      <td>0.904063</td>\n",
       "      <td>0.870188</td>\n",
       "      <td>0.940682</td>\n",
       "      <td>0.931531</td>\n",
       "    </tr>\n",
       "    <tr>\n",
       "      <th>55</th>\n",
       "      <td>magic</td>\n",
       "      <td>GaussianNB</td>\n",
       "      <td>1</td>\n",
       "      <td>0.738088</td>\n",
       "      <td>0.822917</td>\n",
       "      <td>0.735074</td>\n",
       "      <td>0.934604</td>\n",
       "      <td>0.766424</td>\n",
       "    </tr>\n",
       "    <tr>\n",
       "      <th>56</th>\n",
       "      <td>magic</td>\n",
       "      <td>GaussianNB</td>\n",
       "      <td>2</td>\n",
       "      <td>0.726819</td>\n",
       "      <td>0.814402</td>\n",
       "      <td>0.726589</td>\n",
       "      <td>0.926359</td>\n",
       "      <td>0.753799</td>\n",
       "    </tr>\n",
       "    <tr>\n",
       "      <th>57</th>\n",
       "      <td>magic</td>\n",
       "      <td>GaussianNB</td>\n",
       "      <td>3</td>\n",
       "      <td>0.724679</td>\n",
       "      <td>0.812749</td>\n",
       "      <td>0.723777</td>\n",
       "      <td>0.926659</td>\n",
       "      <td>0.753567</td>\n",
       "    </tr>\n",
       "    <tr>\n",
       "      <th>58</th>\n",
       "      <td>magic</td>\n",
       "      <td>GaussianNB</td>\n",
       "      <td>4</td>\n",
       "      <td>0.731241</td>\n",
       "      <td>0.817707</td>\n",
       "      <td>0.730487</td>\n",
       "      <td>0.928579</td>\n",
       "      <td>0.757902</td>\n",
       "    </tr>\n",
       "    <tr>\n",
       "      <th>59</th>\n",
       "      <td>magic</td>\n",
       "      <td>GaussianNB</td>\n",
       "      <td>5</td>\n",
       "      <td>0.732168</td>\n",
       "      <td>0.818818</td>\n",
       "      <td>0.730207</td>\n",
       "      <td>0.931906</td>\n",
       "      <td>0.760655</td>\n",
       "    </tr>\n",
       "  </tbody>\n",
       "</table>\n",
       "</div>"
      ],
      "text/plain": [
       "      dataset                   model  trial  accuracy  f1_score  precision  \\\n",
       "0       adult      LogisticRegression      1  0.749940  0.000000   0.000000   \n",
       "1       adult      LogisticRegression      2  0.749980  0.000000   0.000000   \n",
       "2       adult      LogisticRegression      3  0.752444  0.000000   0.000000   \n",
       "3       adult      LogisticRegression      4  0.749702  0.000000   0.000000   \n",
       "4       adult      LogisticRegression      5  0.750934  0.000000   0.000000   \n",
       "5       adult  RandomForestClassifier      1  0.844527  0.655513   0.729375   \n",
       "6       adult  RandomForestClassifier      2  0.846912  0.664284   0.737708   \n",
       "7       adult  RandomForestClassifier      3  0.844130  0.609129   0.820403   \n",
       "8       adult  RandomForestClassifier      4  0.845879  0.667410   0.727834   \n",
       "9       adult  RandomForestClassifier      5  0.846395  0.625085   0.800497   \n",
       "10      adult              GaussianNB      1  0.724306  0.595109   0.468609   \n",
       "11      adult              GaussianNB      2  0.722081  0.608739   0.466793   \n",
       "12      adult              GaussianNB      3  0.721048  0.592322   0.464898   \n",
       "13      adult              GaussianNB      4  0.724028  0.597962   0.471512   \n",
       "14      adult              GaussianNB      5  0.747516  0.627237   0.494678   \n",
       "15  occupancy      LogisticRegression      1  0.801782  0.000000   0.000000   \n",
       "16  occupancy      LogisticRegression      2  0.796373  0.000000   0.000000   \n",
       "17  occupancy      LogisticRegression      3  0.799236  0.000000   0.000000   \n",
       "18  occupancy      LogisticRegression      4  0.798600  0.000000   0.000000   \n",
       "19  occupancy      LogisticRegression      5  0.799555  0.000000   0.000000   \n",
       "20  occupancy  RandomForestClassifier      1  0.993955  0.985957   0.982327   \n",
       "21  occupancy  RandomForestClassifier      2  0.996182  0.991266   0.991266   \n",
       "22  occupancy  RandomForestClassifier      3  0.995546  0.989645   0.985272   \n",
       "23  occupancy  RandomForestClassifier      4  0.994273  0.986587   0.986587   \n",
       "24  occupancy  RandomForestClassifier      5  0.995546  0.989583   0.992537   \n",
       "25  occupancy              GaussianNB      1  0.976137  0.944155   0.898017   \n",
       "26  occupancy              GaussianNB      2  0.978683  0.950112   0.911429   \n",
       "27  occupancy              GaussianNB      3  0.978683  0.951625   0.915278   \n",
       "28  occupancy              GaussianNB      4  0.982183  0.957831   0.929825   \n",
       "29  occupancy              GaussianNB      5  0.974547  0.943583   0.896783   \n",
       "30       card      LogisticRegression      1  0.777000  0.000000   0.000000   \n",
       "31       card      LogisticRegression      2  0.779080  0.000000   0.000000   \n",
       "32       card      LogisticRegression      3  0.779160  0.000000   0.000000   \n",
       "33       card      LogisticRegression      4  0.778040  0.000000   0.000000   \n",
       "34       card      LogisticRegression      5  0.777320  0.000000   0.000000   \n",
       "35       card  RandomForestClassifier      1  0.815320  0.436883   0.678923   \n",
       "36       card  RandomForestClassifier      2  0.817720  0.441886   0.685932   \n",
       "37       card  RandomForestClassifier      3  0.813680  0.420503   0.672235   \n",
       "38       card  RandomForestClassifier      4  0.812800  0.448633   0.639570   \n",
       "39       card  RandomForestClassifier      5  0.820320  0.459836   0.677534   \n",
       "40       card              GaussianNB      1  0.785720  0.513221   0.514202   \n",
       "41       card              GaussianNB      2  0.780680  0.507589   0.504463   \n",
       "42       card              GaussianNB      3  0.786760  0.479953   0.526654   \n",
       "43       card              GaussianNB      4  0.779120  0.000362   1.000000   \n",
       "44       card              GaussianNB      5  0.789360  0.511321   0.526970   \n",
       "45      magic      LogisticRegression      1  0.649857  0.787774   0.649857   \n",
       "46      magic      LogisticRegression      2  0.647718  0.786200   0.647718   \n",
       "47      magic      LogisticRegression      3  0.644151  0.783567   0.644151   \n",
       "48      magic      LogisticRegression      4  0.646933  0.785621   0.646933   \n",
       "49      magic      LogisticRegression      5  0.651926  0.789292   0.651926   \n",
       "50      magic  RandomForestClassifier      1  0.870471  0.904047   0.868175   \n",
       "51      magic  RandomForestClassifier      2  0.865121  0.899591   0.866510   \n",
       "52      magic  RandomForestClassifier      3  0.871897  0.904600   0.878469   \n",
       "53      magic  RandomForestClassifier      4  0.868117  0.901967   0.870179   \n",
       "54      magic  RandomForestClassifier      5  0.871327  0.904063   0.870188   \n",
       "55      magic              GaussianNB      1  0.738088  0.822917   0.735074   \n",
       "56      magic              GaussianNB      2  0.726819  0.814402   0.726589   \n",
       "57      magic              GaussianNB      3  0.724679  0.812749   0.723777   \n",
       "58      magic              GaussianNB      4  0.731241  0.817707   0.730487   \n",
       "59      magic              GaussianNB      5  0.732168  0.818818   0.730207   \n",
       "\n",
       "      recall       AUC  \n",
       "0   0.000000  0.837827  \n",
       "1   0.000000  0.837391  \n",
       "2   0.000000  0.838752  \n",
       "3   0.000000  0.833537  \n",
       "4   0.000000  0.838663  \n",
       "5   0.595234  0.897257  \n",
       "6   0.604153  0.895433  \n",
       "7   0.484387  0.904115  \n",
       "8   0.616250  0.893186  \n",
       "9   0.512731  0.902063  \n",
       "10  0.815158  0.851814  \n",
       "11  0.874739  0.847886  \n",
       "12  0.815971  0.849081  \n",
       "13  0.817089  0.850311  \n",
       "14  0.856845  0.849504  \n",
       "15  0.000000  0.989385  \n",
       "16  0.000000  0.963205  \n",
       "17  0.000000  0.965292  \n",
       "18  0.000000  0.963483  \n",
       "19  0.000000  0.960492  \n",
       "20  0.989614  0.999790  \n",
       "21  0.991266  0.999668  \n",
       "22  0.994056  0.999668  \n",
       "23  0.986587  0.999092  \n",
       "24  0.986647  0.999914  \n",
       "25  0.995290  0.993389  \n",
       "26  0.992224  0.994013  \n",
       "27  0.990977  0.995038  \n",
       "28  0.987578  0.995010  \n",
       "29  0.995536  0.992784  \n",
       "30  0.000000  0.679706  \n",
       "31  0.000000  0.680240  \n",
       "32  0.000000  0.689312  \n",
       "33  0.000000  0.682774  \n",
       "34  0.000000  0.685451  \n",
       "35  0.322064  0.775264  \n",
       "36  0.325926  0.774085  \n",
       "37  0.305938  0.770043  \n",
       "38  0.345491  0.771375  \n",
       "39  0.348016  0.773265  \n",
       "40  0.512244  0.731745  \n",
       "41  0.510754  0.729209  \n",
       "42  0.440860  0.727632  \n",
       "43  0.000181  0.692563  \n",
       "44  0.496575  0.734797  \n",
       "45  1.000000  0.811469  \n",
       "46  1.000000  0.812412  \n",
       "47  1.000000  0.816298  \n",
       "48  1.000000  0.807970  \n",
       "49  1.000000  0.818541  \n",
       "50  0.943011  0.924411  \n",
       "51  0.935299  0.924466  \n",
       "52  0.932333  0.926563  \n",
       "53  0.936166  0.925832  \n",
       "54  0.940682  0.931531  \n",
       "55  0.934604  0.766424  \n",
       "56  0.926359  0.753799  \n",
       "57  0.926659  0.753567  \n",
       "58  0.928579  0.757902  \n",
       "59  0.931906  0.760655  "
      ]
     },
     "execution_count": 49,
     "metadata": {},
     "output_type": "execute_result"
    }
   ],
   "source": [
    "res_5000[['dataset','model','trial','accuracy','f1_score','precision','recall','AUC']]"
   ]
  },
  {
   "cell_type": "markdown",
   "metadata": {},
   "source": [
    "### Time Complexity of Algorithms depending on number of Train Samples"
   ]
  },
  {
   "cell_type": "code",
   "execution_count": 50,
   "metadata": {},
   "outputs": [
    {
     "data": {
      "image/png": "[encoded data removed]",
      "text/plain": [
       "<Figure size 1920x1280 with 1 Axes>"
      ]
     },
     "metadata": {
      "needs_background": "light"
     },
     "output_type": "display_data"
    }
   ],
   "source": [
    "plt.figure(dpi=320)\n",
    "temp = res.groupby(['model', 'train_samples'], as_index=False)['mean_fit_time'].mean()\n",
    "temp.set_index('train_samples').groupby('model')['mean_fit_time'].plot(marker='o', legend=True)\n",
    "plt.ylabel('Time(s)')\n",
    "plt.savefig('./extra_1.png')\n",
    "plt.show()"
   ]
  },
  {
   "cell_type": "markdown",
   "metadata": {},
   "source": [
    "### Perfomance Metric of Algorithms depending on number of train samples"
   ]
  },
  {
   "cell_type": "code",
   "execution_count": 51,
   "metadata": {},
   "outputs": [
    {
     "data": {
      "image/png": "[encoded data removed]",
      "text/plain": [
       "<Figure size 1920x1280 with 1 Axes>"
      ]
     },
     "metadata": {
      "needs_background": "light"
     },
     "output_type": "display_data"
    },
    {
     "data": {
      "text/html": [
       "<div>\n",
       "<style scoped>\n",
       "    .dataframe tbody tr th:only-of-type {\n",
       "        vertical-align: middle;\n",
       "    }\n",
       "\n",
       "    .dataframe tbody tr th {\n",
       "        vertical-align: top;\n",
       "    }\n",
       "\n",
       "    .dataframe thead th {\n",
       "        text-align: right;\n",
       "    }\n",
       "</style>\n",
       "<table border=\"1\" class=\"dataframe\">\n",
       "  <thead>\n",
       "    <tr style=\"text-align: right;\">\n",
       "      <th></th>\n",
       "      <th></th>\n",
       "      <th>accuracy</th>\n",
       "      <th>f1_score</th>\n",
       "      <th>precision</th>\n",
       "      <th>recall</th>\n",
       "      <th>AUC</th>\n",
       "    </tr>\n",
       "    <tr>\n",
       "      <th>model</th>\n",
       "      <th>train_samples</th>\n",
       "      <th></th>\n",
       "      <th></th>\n",
       "      <th></th>\n",
       "      <th></th>\n",
       "      <th></th>\n",
       "    </tr>\n",
       "  </thead>\n",
       "  <tbody>\n",
       "    <tr>\n",
       "      <th rowspan=\"5\" valign=\"top\">GaussianNB</th>\n",
       "      <th>1000</th>\n",
       "      <td>0.805042</td>\n",
       "      <td>0.616540</td>\n",
       "      <td>0.696265</td>\n",
       "      <td>0.703795</td>\n",
       "      <td>0.823712</td>\n",
       "    </tr>\n",
       "    <tr>\n",
       "      <th>3000</th>\n",
       "      <td>0.804827</td>\n",
       "      <td>0.669710</td>\n",
       "      <td>0.609535</td>\n",
       "      <td>0.763504</td>\n",
       "      <td>0.828847</td>\n",
       "    </tr>\n",
       "    <tr>\n",
       "      <th>5000</th>\n",
       "      <td>0.805192</td>\n",
       "      <td>0.693386</td>\n",
       "      <td>0.681812</td>\n",
       "      <td>0.787506</td>\n",
       "      <td>0.831356</td>\n",
       "    </tr>\n",
       "    <tr>\n",
       "      <th>7000</th>\n",
       "      <td>0.808895</td>\n",
       "      <td>0.717713</td>\n",
       "      <td>0.664822</td>\n",
       "      <td>0.805549</td>\n",
       "      <td>0.837466</td>\n",
       "    </tr>\n",
       "    <tr>\n",
       "      <th>10000</th>\n",
       "      <td>0.750895</td>\n",
       "      <td>0.638244</td>\n",
       "      <td>0.580833</td>\n",
       "      <td>0.739473</td>\n",
       "      <td>0.784692</td>\n",
       "    </tr>\n",
       "    <tr>\n",
       "      <th rowspan=\"5\" valign=\"top\">LogisticRegression</th>\n",
       "      <th>1000</th>\n",
       "      <td>0.741225</td>\n",
       "      <td>0.196608</td>\n",
       "      <td>0.162009</td>\n",
       "      <td>0.250000</td>\n",
       "      <td>0.829393</td>\n",
       "    </tr>\n",
       "    <tr>\n",
       "      <th>3000</th>\n",
       "      <td>0.741508</td>\n",
       "      <td>0.196545</td>\n",
       "      <td>0.161923</td>\n",
       "      <td>0.250000</td>\n",
       "      <td>0.828379</td>\n",
       "    </tr>\n",
       "    <tr>\n",
       "      <th>5000</th>\n",
       "      <td>0.743987</td>\n",
       "      <td>0.196623</td>\n",
       "      <td>0.162029</td>\n",
       "      <td>0.250000</td>\n",
       "      <td>0.825610</td>\n",
       "    </tr>\n",
       "    <tr>\n",
       "      <th>7000</th>\n",
       "      <td>0.740978</td>\n",
       "      <td>0.196911</td>\n",
       "      <td>0.162421</td>\n",
       "      <td>0.250000</td>\n",
       "      <td>0.823733</td>\n",
       "    </tr>\n",
       "    <tr>\n",
       "      <th>10000</th>\n",
       "      <td>0.725067</td>\n",
       "      <td>0.262244</td>\n",
       "      <td>0.216149</td>\n",
       "      <td>0.333333</td>\n",
       "      <td>0.776738</td>\n",
       "    </tr>\n",
       "    <tr>\n",
       "      <th rowspan=\"5\" valign=\"top\">RandomForestClassifier</th>\n",
       "      <th>1000</th>\n",
       "      <td>0.870952</td>\n",
       "      <td>0.723988</td>\n",
       "      <td>0.806103</td>\n",
       "      <td>0.687897</td>\n",
       "      <td>0.888106</td>\n",
       "    </tr>\n",
       "    <tr>\n",
       "      <th>3000</th>\n",
       "      <td>0.878884</td>\n",
       "      <td>0.737086</td>\n",
       "      <td>0.816272</td>\n",
       "      <td>0.700259</td>\n",
       "      <td>0.896469</td>\n",
       "    </tr>\n",
       "    <tr>\n",
       "      <th>5000</th>\n",
       "      <td>0.881506</td>\n",
       "      <td>0.744323</td>\n",
       "      <td>0.823076</td>\n",
       "      <td>0.704793</td>\n",
       "      <td>0.899351</td>\n",
       "    </tr>\n",
       "    <tr>\n",
       "      <th>7000</th>\n",
       "      <td>0.882395</td>\n",
       "      <td>0.744635</td>\n",
       "      <td>0.825734</td>\n",
       "      <td>0.703281</td>\n",
       "      <td>0.900796</td>\n",
       "    </tr>\n",
       "    <tr>\n",
       "      <th>10000</th>\n",
       "      <td>0.847490</td>\n",
       "      <td>0.672312</td>\n",
       "      <td>0.771771</td>\n",
       "      <td>0.619143</td>\n",
       "      <td>0.869624</td>\n",
       "    </tr>\n",
       "  </tbody>\n",
       "</table>\n",
       "</div>"
      ],
      "text/plain": [
       "                                      accuracy  f1_score  precision    recall  \\\n",
       "model                  train_samples                                            \n",
       "GaussianNB             1000           0.805042  0.616540   0.696265  0.703795   \n",
       "                       3000           0.804827  0.669710   0.609535  0.763504   \n",
       "                       5000           0.805192  0.693386   0.681812  0.787506   \n",
       "                       7000           0.808895  0.717713   0.664822  0.805549   \n",
       "                       10000          0.750895  0.638244   0.580833  0.739473   \n",
       "LogisticRegression     1000           0.741225  0.196608   0.162009  0.250000   \n",
       "                       3000           0.741508  0.196545   0.161923  0.250000   \n",
       "                       5000           0.743987  0.196623   0.162029  0.250000   \n",
       "                       7000           0.740978  0.196911   0.162421  0.250000   \n",
       "                       10000          0.725067  0.262244   0.216149  0.333333   \n",
       "RandomForestClassifier 1000           0.870952  0.723988   0.806103  0.687897   \n",
       "                       3000           0.878884  0.737086   0.816272  0.700259   \n",
       "                       5000           0.881506  0.744323   0.823076  0.704793   \n",
       "                       7000           0.882395  0.744635   0.825734  0.703281   \n",
       "                       10000          0.847490  0.672312   0.771771  0.619143   \n",
       "\n",
       "                                           AUC  \n",
       "model                  train_samples            \n",
       "GaussianNB             1000           0.823712  \n",
       "                       3000           0.828847  \n",
       "                       5000           0.831356  \n",
       "                       7000           0.837466  \n",
       "                       10000          0.784692  \n",
       "LogisticRegression     1000           0.829393  \n",
       "                       3000           0.828379  \n",
       "                       5000           0.825610  \n",
       "                       7000           0.823733  \n",
       "                       10000          0.776738  \n",
       "RandomForestClassifier 1000           0.888106  \n",
       "                       3000           0.896469  \n",
       "                       5000           0.899351  \n",
       "                       7000           0.900796  \n",
       "                       10000          0.869624  "
      ]
     },
     "execution_count": 51,
     "metadata": {},
     "output_type": "execute_result"
    }
   ],
   "source": [
    "plt.figure(dpi=320)\n",
    "temp = res.groupby(['model', 'train_samples'], as_index=False)['accuracy'].mean()\n",
    "temp.set_index('train_samples').groupby('model')['accuracy'].plot(marker='o', legend=True)\n",
    "plt.ylabel('Accuracy')\n",
    "plt.savefig('./extra_2.png')\n",
    "plt.show()\n",
    "\n",
    "res.groupby(['model', 'train_samples'])[['accuracy', 'f1_score', 'precision', 'recall', 'AUC']].mean()"
   ]
  }
 ],
 "metadata": {
  "hide_input": false,
  "kernelspec": {
   "display_name": "Python 3",
   "language": "python",
   "name": "python3"
  },
  "language_info": {
   "codemirror_mode": {
    "name": "ipython",
    "version": 3
   },
   "file_extension": ".py",
   "mimetype": "text/x-python",
   "name": "python",
   "nbconvert_exporter": "python",
   "pygments_lexer": "ipython3",
   "version": "3.7.9"
  }
 },
 "nbformat": 4,
 "nbformat_minor": 2
}
